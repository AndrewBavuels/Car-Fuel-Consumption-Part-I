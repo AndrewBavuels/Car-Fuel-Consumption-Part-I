{
 "cells": [
  {
   "cell_type": "markdown",
   "id": "5fda70a2",
   "metadata": {},
   "source": [
    "# **Car Fuel Consumption 🚗📈🔮**\n",
    "## _Part I: Exploratory Data Analysis (EDA) with Python._\n",
    "\"_Which of two fuels is cheaper, E10 or SP 98?_\""
   ]
  },
  {
   "cell_type": "markdown",
   "id": "e67ce314",
   "metadata": {},
   "source": [
    "**Dataset:** https://www.kaggle.com/datasets/anderas/car-consume/"
   ]
  },
  {
   "cell_type": "markdown",
   "id": "cdb446d9",
   "metadata": {},
   "source": [
    "From the Kaggle Dataset context, there are 4 questions formulated:\n",
    "- **Question #1:** Which gas type consumes the most? E10 or SP98?\n",
    "- **Question #2:** How much is the consume?\n",
    "- **Question #3:** It consumes 0.4 liters more with E10 gas, isn't it?\n",
    "- **Question #4:** Which of the two fuels is cheaper, E10 or SP 98?"
   ]
  },
  {
   "cell_type": "markdown",
   "id": "870d7167",
   "metadata": {},
   "source": [
    "These questions are going to be answered at the very end of this notebook."
   ]
  },
  {
   "cell_type": "code",
   "execution_count": 1,
   "id": "0d5fa7f5",
   "metadata": {},
   "outputs": [],
   "source": [
    "import matplotlib.pyplot as plt\n",
    "import numpy as np\n",
    "import pandas as pd\n",
    "import seaborn as sns\n",
    "import warnings\n",
    "warnings.filterwarnings('ignore')"
   ]
  },
  {
   "cell_type": "code",
   "execution_count": 2,
   "id": "168fd937",
   "metadata": {},
   "outputs": [
    {
     "data": {
      "text/html": [
       "<div>\n",
       "<style scoped>\n",
       "    .dataframe tbody tr th:only-of-type {\n",
       "        vertical-align: middle;\n",
       "    }\n",
       "\n",
       "    .dataframe tbody tr th {\n",
       "        vertical-align: top;\n",
       "    }\n",
       "\n",
       "    .dataframe thead th {\n",
       "        text-align: right;\n",
       "    }\n",
       "</style>\n",
       "<table border=\"1\" class=\"dataframe\">\n",
       "  <thead>\n",
       "    <tr style=\"text-align: right;\">\n",
       "      <th></th>\n",
       "      <th>distance</th>\n",
       "      <th>consume</th>\n",
       "      <th>speed</th>\n",
       "      <th>temp_inside</th>\n",
       "      <th>temp_outside</th>\n",
       "      <th>specials</th>\n",
       "      <th>gas_type</th>\n",
       "      <th>AC</th>\n",
       "      <th>rain</th>\n",
       "      <th>sun</th>\n",
       "      <th>refill liters</th>\n",
       "      <th>refill gas</th>\n",
       "    </tr>\n",
       "  </thead>\n",
       "  <tbody>\n",
       "    <tr>\n",
       "      <th>0</th>\n",
       "      <td>28.0</td>\n",
       "      <td>5.0</td>\n",
       "      <td>26</td>\n",
       "      <td>21.5</td>\n",
       "      <td>12</td>\n",
       "      <td>NaN</td>\n",
       "      <td>E10</td>\n",
       "      <td>0</td>\n",
       "      <td>0</td>\n",
       "      <td>0</td>\n",
       "      <td>45.0</td>\n",
       "      <td>E10</td>\n",
       "    </tr>\n",
       "    <tr>\n",
       "      <th>1</th>\n",
       "      <td>12.0</td>\n",
       "      <td>4.2</td>\n",
       "      <td>30</td>\n",
       "      <td>21.5</td>\n",
       "      <td>13</td>\n",
       "      <td>NaN</td>\n",
       "      <td>E10</td>\n",
       "      <td>0</td>\n",
       "      <td>0</td>\n",
       "      <td>0</td>\n",
       "      <td>NaN</td>\n",
       "      <td>NaN</td>\n",
       "    </tr>\n",
       "    <tr>\n",
       "      <th>2</th>\n",
       "      <td>11.2</td>\n",
       "      <td>5.5</td>\n",
       "      <td>38</td>\n",
       "      <td>21.5</td>\n",
       "      <td>15</td>\n",
       "      <td>NaN</td>\n",
       "      <td>E10</td>\n",
       "      <td>0</td>\n",
       "      <td>0</td>\n",
       "      <td>0</td>\n",
       "      <td>NaN</td>\n",
       "      <td>NaN</td>\n",
       "    </tr>\n",
       "    <tr>\n",
       "      <th>3</th>\n",
       "      <td>12.9</td>\n",
       "      <td>3.9</td>\n",
       "      <td>36</td>\n",
       "      <td>21.5</td>\n",
       "      <td>14</td>\n",
       "      <td>NaN</td>\n",
       "      <td>E10</td>\n",
       "      <td>0</td>\n",
       "      <td>0</td>\n",
       "      <td>0</td>\n",
       "      <td>NaN</td>\n",
       "      <td>NaN</td>\n",
       "    </tr>\n",
       "    <tr>\n",
       "      <th>4</th>\n",
       "      <td>18.5</td>\n",
       "      <td>4.5</td>\n",
       "      <td>46</td>\n",
       "      <td>21.5</td>\n",
       "      <td>15</td>\n",
       "      <td>NaN</td>\n",
       "      <td>E10</td>\n",
       "      <td>0</td>\n",
       "      <td>0</td>\n",
       "      <td>0</td>\n",
       "      <td>NaN</td>\n",
       "      <td>NaN</td>\n",
       "    </tr>\n",
       "  </tbody>\n",
       "</table>\n",
       "</div>"
      ],
      "text/plain": [
       "   distance  consume  speed  temp_inside  temp_outside specials gas_type  AC  \\\n",
       "0      28.0      5.0     26         21.5            12      NaN      E10   0   \n",
       "1      12.0      4.2     30         21.5            13      NaN      E10   0   \n",
       "2      11.2      5.5     38         21.5            15      NaN      E10   0   \n",
       "3      12.9      3.9     36         21.5            14      NaN      E10   0   \n",
       "4      18.5      4.5     46         21.5            15      NaN      E10   0   \n",
       "\n",
       "   rain  sun  refill liters refill gas  \n",
       "0     0    0           45.0        E10  \n",
       "1     0    0            NaN        NaN  \n",
       "2     0    0            NaN        NaN  \n",
       "3     0    0            NaN        NaN  \n",
       "4     0    0            NaN        NaN  "
      ]
     },
     "execution_count": 2,
     "metadata": {},
     "output_type": "execute_result"
    }
   ],
   "source": [
    "measurements_df = pd.read_csv('../data/raw/measurements.csv', sep=',',decimal=',')\n",
    "measurements_df.head()"
   ]
  },
  {
   "cell_type": "markdown",
   "id": "58c9c82e",
   "metadata": {},
   "source": [
    "#### Checking there are not duplicates"
   ]
  },
  {
   "cell_type": "code",
   "execution_count": 3,
   "id": "6fe39048",
   "metadata": {},
   "outputs": [],
   "source": [
    "measurements_df.drop_duplicates(inplace=True)"
   ]
  },
  {
   "cell_type": "markdown",
   "id": "c17a0b7a",
   "metadata": {},
   "source": [
    "#### There are not duplicates. Now reviewing the features as objetc type"
   ]
  },
  {
   "cell_type": "code",
   "execution_count": 4,
   "id": "d6320864",
   "metadata": {},
   "outputs": [],
   "source": [
    "measurements_df.columns\n",
    "column_order = ['gas_type','distance', 'consume', 'speed', 'temp_inside', 'temp_outside',\n",
    "       'specials', 'AC', 'rain', 'sun', 'refill liters',\n",
    "       'refill gas']\n",
    "measurements_df = measurements_df[column_order]"
   ]
  },
  {
   "cell_type": "code",
   "execution_count": 5,
   "id": "aa204f1b",
   "metadata": {},
   "outputs": [
    {
     "name": "stdout",
     "output_type": "stream",
     "text": [
      "<class 'pandas.core.frame.DataFrame'>\n",
      "RangeIndex: 388 entries, 0 to 387\n",
      "Data columns (total 12 columns):\n",
      " #   Column         Non-Null Count  Dtype  \n",
      "---  ------         --------------  -----  \n",
      " 0   gas_type       388 non-null    object \n",
      " 1   distance       388 non-null    float64\n",
      " 2   consume        388 non-null    float64\n",
      " 3   speed          388 non-null    int64  \n",
      " 4   temp_inside    376 non-null    float64\n",
      " 5   temp_outside   388 non-null    int64  \n",
      " 6   specials       93 non-null     object \n",
      " 7   AC             388 non-null    int64  \n",
      " 8   rain           388 non-null    int64  \n",
      " 9   sun            388 non-null    int64  \n",
      " 10  refill liters  13 non-null     float64\n",
      " 11  refill gas     13 non-null     object \n",
      "dtypes: float64(4), int64(5), object(3)\n",
      "memory usage: 36.5+ KB\n"
     ]
    }
   ],
   "source": [
    "measurements_df.info()"
   ]
  },
  {
   "cell_type": "markdown",
   "id": "2afa1d5b",
   "metadata": {},
   "source": [
    "#### What is the rate of null values per each variable?"
   ]
  },
  {
   "cell_type": "code",
   "execution_count": 6,
   "id": "cc9e66f7",
   "metadata": {},
   "outputs": [
    {
     "data": {
      "image/png": "[encoded data removed]",
      "text/plain": [
       "<Figure size 1084.88x500 with 1 Axes>"
      ]
     },
     "metadata": {},
     "output_type": "display_data"
    }
   ],
   "source": [
    "# Check for missing values in the DataFrame 'measurements_df'.\n",
    "\n",
    "# melt put from wide format to long format and creates a new column named \n",
    "#'missing' containing the boolean values (True/False) indicating missing values.\n",
    "\n",
    "measurements_df.isnull().melt(value_name='missing').pipe( \n",
    "    \n",
    "# pipe the result to a lambda function that will create a seaborn distribution plot.\n",
    "    \n",
    "    lambda df: (\n",
    "        sns.displot( # Create a distribution plot with seaborn.\n",
    "            data=df,\n",
    "            y='variable',\n",
    "            hue='missing',     # Specify that the color encoding should be based on the 'missing' column.\n",
    "            multiple='fill',   # Adjust the plot to show the proportion of each hue category.\n",
    "            aspect=2           # Set the aspect ratio of the plot (width/height ratio).\n",
    "        )\n",
    "    )\n",
    ")\n",
    "plt.show()"
   ]
  },
  {
   "cell_type": "code",
   "execution_count": 7,
   "id": "2cc4c100",
   "metadata": {},
   "outputs": [
    {
     "name": "stdout",
     "output_type": "stream",
     "text": [
      "96.65 %\n"
     ]
    }
   ],
   "source": [
    "# Calculates the non-missing rate as a percentage.\n",
    "\n",
    "refill_null_rate = ((388 - 13) / 388)*100\n",
    "print(round(refill_null_rate,2),'%')"
   ]
  },
  {
   "cell_type": "markdown",
   "id": "675f6a55",
   "metadata": {},
   "source": [
    "Both refill columns have the **96.65%** of null values, so I am dropping both columns off:"
   ]
  },
  {
   "cell_type": "code",
   "execution_count": 8,
   "id": "41f17b5c",
   "metadata": {},
   "outputs": [],
   "source": [
    "measurements_df.drop(columns=['refill liters','refill gas'], inplace=True)"
   ]
  },
  {
   "cell_type": "code",
   "execution_count": 9,
   "id": "a788330c",
   "metadata": {},
   "outputs": [
    {
     "data": {
      "text/html": [
       "<div>\n",
       "<style scoped>\n",
       "    .dataframe tbody tr th:only-of-type {\n",
       "        vertical-align: middle;\n",
       "    }\n",
       "\n",
       "    .dataframe tbody tr th {\n",
       "        vertical-align: top;\n",
       "    }\n",
       "\n",
       "    .dataframe thead th {\n",
       "        text-align: right;\n",
       "    }\n",
       "</style>\n",
       "<table border=\"1\" class=\"dataframe\">\n",
       "  <thead>\n",
       "    <tr style=\"text-align: right;\">\n",
       "      <th></th>\n",
       "      <th>gas_type</th>\n",
       "      <th>distance</th>\n",
       "      <th>consume</th>\n",
       "      <th>speed</th>\n",
       "      <th>temp_inside</th>\n",
       "      <th>temp_outside</th>\n",
       "      <th>specials</th>\n",
       "      <th>AC</th>\n",
       "      <th>rain</th>\n",
       "      <th>sun</th>\n",
       "    </tr>\n",
       "  </thead>\n",
       "  <tbody>\n",
       "    <tr>\n",
       "      <th>0</th>\n",
       "      <td>E10</td>\n",
       "      <td>28.0</td>\n",
       "      <td>5.0</td>\n",
       "      <td>26</td>\n",
       "      <td>21.5</td>\n",
       "      <td>12</td>\n",
       "      <td>NaN</td>\n",
       "      <td>0</td>\n",
       "      <td>0</td>\n",
       "      <td>0</td>\n",
       "    </tr>\n",
       "    <tr>\n",
       "      <th>1</th>\n",
       "      <td>E10</td>\n",
       "      <td>12.0</td>\n",
       "      <td>4.2</td>\n",
       "      <td>30</td>\n",
       "      <td>21.5</td>\n",
       "      <td>13</td>\n",
       "      <td>NaN</td>\n",
       "      <td>0</td>\n",
       "      <td>0</td>\n",
       "      <td>0</td>\n",
       "    </tr>\n",
       "    <tr>\n",
       "      <th>2</th>\n",
       "      <td>E10</td>\n",
       "      <td>11.2</td>\n",
       "      <td>5.5</td>\n",
       "      <td>38</td>\n",
       "      <td>21.5</td>\n",
       "      <td>15</td>\n",
       "      <td>NaN</td>\n",
       "      <td>0</td>\n",
       "      <td>0</td>\n",
       "      <td>0</td>\n",
       "    </tr>\n",
       "    <tr>\n",
       "      <th>3</th>\n",
       "      <td>E10</td>\n",
       "      <td>12.9</td>\n",
       "      <td>3.9</td>\n",
       "      <td>36</td>\n",
       "      <td>21.5</td>\n",
       "      <td>14</td>\n",
       "      <td>NaN</td>\n",
       "      <td>0</td>\n",
       "      <td>0</td>\n",
       "      <td>0</td>\n",
       "    </tr>\n",
       "    <tr>\n",
       "      <th>4</th>\n",
       "      <td>E10</td>\n",
       "      <td>18.5</td>\n",
       "      <td>4.5</td>\n",
       "      <td>46</td>\n",
       "      <td>21.5</td>\n",
       "      <td>15</td>\n",
       "      <td>NaN</td>\n",
       "      <td>0</td>\n",
       "      <td>0</td>\n",
       "      <td>0</td>\n",
       "    </tr>\n",
       "  </tbody>\n",
       "</table>\n",
       "</div>"
      ],
      "text/plain": [
       "  gas_type  distance  consume  speed  temp_inside  temp_outside specials  AC  \\\n",
       "0      E10      28.0      5.0     26         21.5            12      NaN   0   \n",
       "1      E10      12.0      4.2     30         21.5            13      NaN   0   \n",
       "2      E10      11.2      5.5     38         21.5            15      NaN   0   \n",
       "3      E10      12.9      3.9     36         21.5            14      NaN   0   \n",
       "4      E10      18.5      4.5     46         21.5            15      NaN   0   \n",
       "\n",
       "   rain  sun  \n",
       "0     0    0  \n",
       "1     0    0  \n",
       "2     0    0  \n",
       "3     0    0  \n",
       "4     0    0  "
      ]
     },
     "execution_count": 9,
     "metadata": {},
     "output_type": "execute_result"
    }
   ],
   "source": [
    "measurements_df.head()"
   ]
  },
  {
   "cell_type": "markdown",
   "id": "82c51ed8",
   "metadata": {},
   "source": [
    "#### Checking 'Specials' unique values:"
   ]
  },
  {
   "cell_type": "code",
   "execution_count": 10,
   "id": "a08b4495",
   "metadata": {},
   "outputs": [
    {
     "data": {
      "text/plain": [
       "array([nan, 'AC rain', 'AC', 'rain', 'snow', 'AC snow',\n",
       "       'half rain half sun', 'sun', 'AC sun', 'sun ac', 'ac', 'AC Sun',\n",
       "       'ac rain'], dtype=object)"
      ]
     },
     "execution_count": 10,
     "metadata": {},
     "output_type": "execute_result"
    }
   ],
   "source": [
    "measurements_df['specials'].unique()"
   ]
  },
  {
   "cell_type": "code",
   "execution_count": 11,
   "id": "aa48cef0",
   "metadata": {},
   "outputs": [],
   "source": [
    "# Convert the 'specials' column in the DataFrame 'measurements_df' to lowercase.\n",
    "\n",
    "import re\n",
    "measurements_df['specials'] = measurements_df['specials'].str.lower()"
   ]
  },
  {
   "cell_type": "code",
   "execution_count": 12,
   "id": "b4999f6a",
   "metadata": {},
   "outputs": [
    {
     "data": {
      "text/plain": [
       "specials\n",
       "rain                  32\n",
       "sun                   27\n",
       "ac                    14\n",
       "ac rain               10\n",
       "snow                   3\n",
       "sun ac                 3\n",
       "ac sun                 2\n",
       "ac snow                1\n",
       "half rain half sun     1\n",
       "Name: count, dtype: int64"
      ]
     },
     "execution_count": 12,
     "metadata": {},
     "output_type": "execute_result"
    }
   ],
   "source": [
    "measurements_df['specials'].value_counts()"
   ]
  },
  {
   "cell_type": "markdown",
   "id": "6dfc6f14",
   "metadata": {},
   "source": [
    "I am going to get a new dataframe off the 'special' column"
   ]
  },
  {
   "cell_type": "code",
   "execution_count": 13,
   "id": "063d831b",
   "metadata": {},
   "outputs": [
    {
     "data": {
      "text/html": [
       "<div>\n",
       "<style scoped>\n",
       "    .dataframe tbody tr th:only-of-type {\n",
       "        vertical-align: middle;\n",
       "    }\n",
       "\n",
       "    .dataframe tbody tr th {\n",
       "        vertical-align: top;\n",
       "    }\n",
       "\n",
       "    .dataframe thead th {\n",
       "        text-align: right;\n",
       "    }\n",
       "</style>\n",
       "<table border=\"1\" class=\"dataframe\">\n",
       "  <thead>\n",
       "    <tr style=\"text-align: right;\">\n",
       "      <th></th>\n",
       "      <th>specials</th>\n",
       "      <th>AC</th>\n",
       "      <th>rain</th>\n",
       "      <th>sun</th>\n",
       "    </tr>\n",
       "  </thead>\n",
       "  <tbody>\n",
       "    <tr>\n",
       "      <th>0</th>\n",
       "      <td>NaN</td>\n",
       "      <td>0</td>\n",
       "      <td>0</td>\n",
       "      <td>0</td>\n",
       "    </tr>\n",
       "    <tr>\n",
       "      <th>1</th>\n",
       "      <td>NaN</td>\n",
       "      <td>0</td>\n",
       "      <td>0</td>\n",
       "      <td>0</td>\n",
       "    </tr>\n",
       "    <tr>\n",
       "      <th>2</th>\n",
       "      <td>NaN</td>\n",
       "      <td>0</td>\n",
       "      <td>0</td>\n",
       "      <td>0</td>\n",
       "    </tr>\n",
       "    <tr>\n",
       "      <th>3</th>\n",
       "      <td>NaN</td>\n",
       "      <td>0</td>\n",
       "      <td>0</td>\n",
       "      <td>0</td>\n",
       "    </tr>\n",
       "    <tr>\n",
       "      <th>4</th>\n",
       "      <td>NaN</td>\n",
       "      <td>0</td>\n",
       "      <td>0</td>\n",
       "      <td>0</td>\n",
       "    </tr>\n",
       "  </tbody>\n",
       "</table>\n",
       "</div>"
      ],
      "text/plain": [
       "  specials  AC  rain  sun\n",
       "0      NaN   0     0    0\n",
       "1      NaN   0     0    0\n",
       "2      NaN   0     0    0\n",
       "3      NaN   0     0    0\n",
       "4      NaN   0     0    0"
      ]
     },
     "execution_count": 13,
     "metadata": {},
     "output_type": "execute_result"
    }
   ],
   "source": [
    "weather_cond = measurements_df.loc[:, 'specials':]\n",
    "weather_cond.head()"
   ]
  },
  {
   "cell_type": "code",
   "execution_count": 14,
   "id": "2df9ee3e",
   "metadata": {},
   "outputs": [
    {
     "data": {
      "text/plain": [
       "specials\n",
       "rain                  32\n",
       "sun                   27\n",
       "ac                    14\n",
       "ac rain               10\n",
       "snow                   3\n",
       "sun ac                 3\n",
       "ac sun                 2\n",
       "ac snow                1\n",
       "half rain half sun     1\n",
       "Name: count, dtype: int64"
      ]
     },
     "execution_count": 14,
     "metadata": {},
     "output_type": "execute_result"
    }
   ],
   "source": [
    "weather_cond['specials'].value_counts()"
   ]
  },
  {
   "cell_type": "code",
   "execution_count": 15,
   "id": "c49cb7c0",
   "metadata": {},
   "outputs": [
    {
     "name": "stdout",
     "output_type": "stream",
     "text": [
      "30\n",
      "48\n",
      "32\n"
     ]
    }
   ],
   "source": [
    "# Print the sum of values in the ['AC','rain','sun'] columns of the DataFrame 'weather_cond'.\n",
    "\n",
    "print(weather_cond['AC'].sum())\n",
    "print(weather_cond['rain'].sum())\n",
    "print(weather_cond['sun'].sum())"
   ]
  },
  {
   "cell_type": "code",
   "execution_count": 16,
   "id": "78dd5812",
   "metadata": {},
   "outputs": [
    {
     "data": {
      "text/html": [
       "<div>\n",
       "<style scoped>\n",
       "    .dataframe tbody tr th:only-of-type {\n",
       "        vertical-align: middle;\n",
       "    }\n",
       "\n",
       "    .dataframe tbody tr th {\n",
       "        vertical-align: top;\n",
       "    }\n",
       "\n",
       "    .dataframe thead th {\n",
       "        text-align: right;\n",
       "    }\n",
       "</style>\n",
       "<table border=\"1\" class=\"dataframe\">\n",
       "  <thead>\n",
       "    <tr style=\"text-align: right;\">\n",
       "      <th></th>\n",
       "      <th>specials</th>\n",
       "      <th>AC</th>\n",
       "      <th>rain</th>\n",
       "      <th>sun</th>\n",
       "    </tr>\n",
       "  </thead>\n",
       "  <tbody>\n",
       "    <tr>\n",
       "      <th>191</th>\n",
       "      <td>half rain half sun</td>\n",
       "      <td>0</td>\n",
       "      <td>1</td>\n",
       "      <td>0</td>\n",
       "    </tr>\n",
       "  </tbody>\n",
       "</table>\n",
       "</div>"
      ],
      "text/plain": [
       "               specials  AC  rain  sun\n",
       "191  half rain half sun   0     1    0"
      ]
     },
     "execution_count": 16,
     "metadata": {},
     "output_type": "execute_result"
    }
   ],
   "source": [
    "weather_cond[weather_cond['specials'] == 'half rain half sun']"
   ]
  },
  {
   "cell_type": "code",
   "execution_count": 17,
   "id": "d2c3306f",
   "metadata": {},
   "outputs": [],
   "source": [
    "# Replacing numbers to categorical strings\n",
    "\n",
    "weather_cond['AC'].replace(1,'ac',inplace=True)\n",
    "weather_cond['rain'].replace(1,'rain',inplace=True)\n",
    "weather_cond['sun'].replace(1,'sun',inplace=True)"
   ]
  },
  {
   "cell_type": "code",
   "execution_count": 18,
   "id": "bf4d33f5",
   "metadata": {},
   "outputs": [],
   "source": [
    "# Drop the 'specials' column\n",
    "weather_cond.drop(columns='specials', inplace=True)"
   ]
  },
  {
   "cell_type": "code",
   "execution_count": 19,
   "id": "f0c8ece9",
   "metadata": {},
   "outputs": [],
   "source": [
    "# Create the 'weather mix' column by concatenating the string representations with spaces\n",
    "weather_cond['weather_mix'] = weather_cond['AC'].astype(str) + ' ' + weather_cond['rain'].astype(str) + ' ' + weather_cond['sun'].astype(str)"
   ]
  },
  {
   "cell_type": "code",
   "execution_count": 20,
   "id": "2f94d749",
   "metadata": {},
   "outputs": [
    {
     "data": {
      "text/plain": [
       "weather_mix\n",
       "0 0 0        295\n",
       "0 rain 0      36\n",
       "0 0 sun       27\n",
       "ac 0 0        13\n",
       "ac rain 0     12\n",
       "ac 0 sun       5\n",
       "Name: count, dtype: int64"
      ]
     },
     "execution_count": 20,
     "metadata": {},
     "output_type": "execute_result"
    }
   ],
   "source": [
    "weather_cond['weather_mix'].value_counts()"
   ]
  },
  {
   "cell_type": "code",
   "execution_count": 21,
   "id": "fa338c0b",
   "metadata": {},
   "outputs": [
    {
     "data": {
      "text/plain": [
       "AC\n",
       "0    358\n",
       "1     30\n",
       "Name: count, dtype: int64"
      ]
     },
     "execution_count": 21,
     "metadata": {},
     "output_type": "execute_result"
    }
   ],
   "source": [
    "measurements_df['AC'].value_counts()"
   ]
  },
  {
   "cell_type": "code",
   "execution_count": 22,
   "id": "a7c6cd47",
   "metadata": {},
   "outputs": [],
   "source": [
    "# Replacing the values in the 'weather mix' column\n",
    "weather_cond['weather_mix'] = weather_cond['weather_mix'].replace({\n",
    "    '0 0 0': 'ac OFF',\n",
    "    '0 rain 0': 'rainy with ac OFF',\n",
    "    '0 0 sun': 'sunny with ac OFF',\n",
    "    'ac 0 0': 'ac ON',\n",
    "    'ac rain 0': 'rainy with ac ON',\n",
    "    'ac 0 sun': 'sunny with ac ON'\n",
    "})"
   ]
  },
  {
   "cell_type": "code",
   "execution_count": 23,
   "id": "37118fd5",
   "metadata": {},
   "outputs": [
    {
     "data": {
      "text/html": [
       "<div>\n",
       "<style scoped>\n",
       "    .dataframe tbody tr th:only-of-type {\n",
       "        vertical-align: middle;\n",
       "    }\n",
       "\n",
       "    .dataframe tbody tr th {\n",
       "        vertical-align: top;\n",
       "    }\n",
       "\n",
       "    .dataframe thead th {\n",
       "        text-align: right;\n",
       "    }\n",
       "</style>\n",
       "<table border=\"1\" class=\"dataframe\">\n",
       "  <thead>\n",
       "    <tr style=\"text-align: right;\">\n",
       "      <th></th>\n",
       "      <th>AC</th>\n",
       "      <th>rain</th>\n",
       "      <th>sun</th>\n",
       "      <th>weather_mix</th>\n",
       "    </tr>\n",
       "  </thead>\n",
       "  <tbody>\n",
       "    <tr>\n",
       "      <th>0</th>\n",
       "      <td>0</td>\n",
       "      <td>0</td>\n",
       "      <td>0</td>\n",
       "      <td>ac OFF</td>\n",
       "    </tr>\n",
       "    <tr>\n",
       "      <th>1</th>\n",
       "      <td>0</td>\n",
       "      <td>0</td>\n",
       "      <td>0</td>\n",
       "      <td>ac OFF</td>\n",
       "    </tr>\n",
       "    <tr>\n",
       "      <th>2</th>\n",
       "      <td>0</td>\n",
       "      <td>0</td>\n",
       "      <td>0</td>\n",
       "      <td>ac OFF</td>\n",
       "    </tr>\n",
       "    <tr>\n",
       "      <th>3</th>\n",
       "      <td>0</td>\n",
       "      <td>0</td>\n",
       "      <td>0</td>\n",
       "      <td>ac OFF</td>\n",
       "    </tr>\n",
       "    <tr>\n",
       "      <th>4</th>\n",
       "      <td>0</td>\n",
       "      <td>0</td>\n",
       "      <td>0</td>\n",
       "      <td>ac OFF</td>\n",
       "    </tr>\n",
       "  </tbody>\n",
       "</table>\n",
       "</div>"
      ],
      "text/plain": [
       "  AC rain sun weather_mix\n",
       "0  0    0   0      ac OFF\n",
       "1  0    0   0      ac OFF\n",
       "2  0    0   0      ac OFF\n",
       "3  0    0   0      ac OFF\n",
       "4  0    0   0      ac OFF"
      ]
     },
     "execution_count": 23,
     "metadata": {},
     "output_type": "execute_result"
    }
   ],
   "source": [
    "weather_cond.head()"
   ]
  },
  {
   "cell_type": "code",
   "execution_count": 24,
   "id": "b4cd009d",
   "metadata": {},
   "outputs": [],
   "source": [
    "# Drop columns\n",
    "measurements_df.drop(columns=['specials','AC','rain','sun'], inplace=True)"
   ]
  },
  {
   "cell_type": "code",
   "execution_count": 25,
   "id": "62014974",
   "metadata": {},
   "outputs": [],
   "source": [
    "# Concatenate measurements_df and weather_cond along their columns.\n",
    "measurements_df = pd.concat([measurements_df, weather_cond], axis=1)"
   ]
  },
  {
   "cell_type": "code",
   "execution_count": 26,
   "id": "17e81025",
   "metadata": {},
   "outputs": [
    {
     "data": {
      "text/html": [
       "<div>\n",
       "<style scoped>\n",
       "    .dataframe tbody tr th:only-of-type {\n",
       "        vertical-align: middle;\n",
       "    }\n",
       "\n",
       "    .dataframe tbody tr th {\n",
       "        vertical-align: top;\n",
       "    }\n",
       "\n",
       "    .dataframe thead th {\n",
       "        text-align: right;\n",
       "    }\n",
       "</style>\n",
       "<table border=\"1\" class=\"dataframe\">\n",
       "  <thead>\n",
       "    <tr style=\"text-align: right;\">\n",
       "      <th></th>\n",
       "      <th>gas_type</th>\n",
       "      <th>distance</th>\n",
       "      <th>consume</th>\n",
       "      <th>speed</th>\n",
       "      <th>temp_inside</th>\n",
       "      <th>temp_outside</th>\n",
       "      <th>AC</th>\n",
       "      <th>rain</th>\n",
       "      <th>sun</th>\n",
       "      <th>weather_mix</th>\n",
       "    </tr>\n",
       "  </thead>\n",
       "  <tbody>\n",
       "    <tr>\n",
       "      <th>0</th>\n",
       "      <td>E10</td>\n",
       "      <td>28.0</td>\n",
       "      <td>5.0</td>\n",
       "      <td>26</td>\n",
       "      <td>21.5</td>\n",
       "      <td>12</td>\n",
       "      <td>0</td>\n",
       "      <td>0</td>\n",
       "      <td>0</td>\n",
       "      <td>ac OFF</td>\n",
       "    </tr>\n",
       "    <tr>\n",
       "      <th>1</th>\n",
       "      <td>E10</td>\n",
       "      <td>12.0</td>\n",
       "      <td>4.2</td>\n",
       "      <td>30</td>\n",
       "      <td>21.5</td>\n",
       "      <td>13</td>\n",
       "      <td>0</td>\n",
       "      <td>0</td>\n",
       "      <td>0</td>\n",
       "      <td>ac OFF</td>\n",
       "    </tr>\n",
       "    <tr>\n",
       "      <th>2</th>\n",
       "      <td>E10</td>\n",
       "      <td>11.2</td>\n",
       "      <td>5.5</td>\n",
       "      <td>38</td>\n",
       "      <td>21.5</td>\n",
       "      <td>15</td>\n",
       "      <td>0</td>\n",
       "      <td>0</td>\n",
       "      <td>0</td>\n",
       "      <td>ac OFF</td>\n",
       "    </tr>\n",
       "    <tr>\n",
       "      <th>3</th>\n",
       "      <td>E10</td>\n",
       "      <td>12.9</td>\n",
       "      <td>3.9</td>\n",
       "      <td>36</td>\n",
       "      <td>21.5</td>\n",
       "      <td>14</td>\n",
       "      <td>0</td>\n",
       "      <td>0</td>\n",
       "      <td>0</td>\n",
       "      <td>ac OFF</td>\n",
       "    </tr>\n",
       "    <tr>\n",
       "      <th>4</th>\n",
       "      <td>E10</td>\n",
       "      <td>18.5</td>\n",
       "      <td>4.5</td>\n",
       "      <td>46</td>\n",
       "      <td>21.5</td>\n",
       "      <td>15</td>\n",
       "      <td>0</td>\n",
       "      <td>0</td>\n",
       "      <td>0</td>\n",
       "      <td>ac OFF</td>\n",
       "    </tr>\n",
       "  </tbody>\n",
       "</table>\n",
       "</div>"
      ],
      "text/plain": [
       "  gas_type  distance  consume  speed  temp_inside  temp_outside AC rain sun  \\\n",
       "0      E10      28.0      5.0     26         21.5            12  0    0   0   \n",
       "1      E10      12.0      4.2     30         21.5            13  0    0   0   \n",
       "2      E10      11.2      5.5     38         21.5            15  0    0   0   \n",
       "3      E10      12.9      3.9     36         21.5            14  0    0   0   \n",
       "4      E10      18.5      4.5     46         21.5            15  0    0   0   \n",
       "\n",
       "  weather_mix  \n",
       "0      ac OFF  \n",
       "1      ac OFF  \n",
       "2      ac OFF  \n",
       "3      ac OFF  \n",
       "4      ac OFF  "
      ]
     },
     "execution_count": 26,
     "metadata": {},
     "output_type": "execute_result"
    }
   ],
   "source": [
    "measurements_df.head()"
   ]
  },
  {
   "cell_type": "code",
   "execution_count": 27,
   "id": "90e77c84",
   "metadata": {},
   "outputs": [
    {
     "data": {
      "text/plain": [
       "<Axes: xlabel='weather_mix'>"
      ]
     },
     "execution_count": 27,
     "metadata": {},
     "output_type": "execute_result"
    },
    {
     "data": {
      "image/png": "[encoded data removed]",
      "text/plain": [
       "<Figure size 640x480 with 1 Axes>"
      ]
     },
     "metadata": {},
     "output_type": "display_data"
    }
   ],
   "source": [
    "measurements_df.weather_mix.value_counts().plot(kind='bar')"
   ]
  },
  {
   "cell_type": "markdown",
   "id": "f4f93efd",
   "metadata": {},
   "source": [
    "For EDA is not relevant how **air conditioner (ac) when ON** affects the gas consumption, because is not enough data in comparison with 'ac OFF'."
   ]
  },
  {
   "cell_type": "markdown",
   "id": "d182ba02",
   "metadata": {},
   "source": [
    "At this very point I am going to start the data cleaning"
   ]
  },
  {
   "cell_type": "markdown",
   "id": "65c18264",
   "metadata": {},
   "source": [
    "### Data cleaning"
   ]
  },
  {
   "cell_type": "markdown",
   "id": "5ba19b7d",
   "metadata": {},
   "source": [
    "#### Gas type"
   ]
  },
  {
   "cell_type": "code",
   "execution_count": 28,
   "id": "c7d4dfd4",
   "metadata": {},
   "outputs": [
    {
     "data": {
      "text/plain": [
       "array(['E10', 'SP98'], dtype=object)"
      ]
     },
     "execution_count": 28,
     "metadata": {},
     "output_type": "execute_result"
    }
   ],
   "source": [
    "measurements_df['gas_type'].unique()"
   ]
  },
  {
   "cell_type": "code",
   "execution_count": 29,
   "id": "e0f26dd8",
   "metadata": {},
   "outputs": [
    {
     "data": {
      "text/plain": [
       "gas_type\n",
       "SP98    228\n",
       "E10     160\n",
       "Name: count, dtype: int64"
      ]
     },
     "execution_count": 29,
     "metadata": {},
     "output_type": "execute_result"
    }
   ],
   "source": [
    "measurements_df['gas_type'].value_counts()"
   ]
  },
  {
   "cell_type": "code",
   "execution_count": 30,
   "id": "27af8760",
   "metadata": {},
   "outputs": [
    {
     "name": "stdout",
     "output_type": "stream",
     "text": [
      "<class 'pandas.core.frame.DataFrame'>\n",
      "RangeIndex: 388 entries, 0 to 387\n",
      "Data columns (total 10 columns):\n",
      " #   Column        Non-Null Count  Dtype  \n",
      "---  ------        --------------  -----  \n",
      " 0   gas_type      388 non-null    object \n",
      " 1   distance      388 non-null    float64\n",
      " 2   consume       388 non-null    float64\n",
      " 3   speed         388 non-null    int64  \n",
      " 4   temp_inside   376 non-null    float64\n",
      " 5   temp_outside  388 non-null    int64  \n",
      " 6   AC            388 non-null    object \n",
      " 7   rain          388 non-null    object \n",
      " 8   sun           388 non-null    object \n",
      " 9   weather_mix   388 non-null    object \n",
      "dtypes: float64(3), int64(2), object(5)\n",
      "memory usage: 30.4+ KB\n"
     ]
    }
   ],
   "source": [
    "measurements_df.info()"
   ]
  },
  {
   "cell_type": "code",
   "execution_count": 31,
   "id": "5335af3c",
   "metadata": {},
   "outputs": [
    {
     "name": "stdout",
     "output_type": "stream",
     "text": [
      "<class 'pandas.core.frame.DataFrame'>\n",
      "RangeIndex: 388 entries, 0 to 387\n",
      "Data columns (total 10 columns):\n",
      " #   Column        Non-Null Count  Dtype  \n",
      "---  ------        --------------  -----  \n",
      " 0   gas_type      388 non-null    object \n",
      " 1   distance      388 non-null    float64\n",
      " 2   consume       388 non-null    float64\n",
      " 3   speed         388 non-null    int64  \n",
      " 4   temp_inside   376 non-null    float64\n",
      " 5   temp_outside  388 non-null    float64\n",
      " 6   AC            388 non-null    object \n",
      " 7   rain          388 non-null    object \n",
      " 8   sun           388 non-null    object \n",
      " 9   weather_mix   388 non-null    object \n",
      "dtypes: float64(4), int64(1), object(5)\n",
      "memory usage: 30.4+ KB\n"
     ]
    }
   ],
   "source": [
    "# Change column temp_outside's values to floats\n",
    "measurements_df['temp_outside'] = measurements_df['temp_outside'].astype(float)\n",
    "measurements_df.info()"
   ]
  },
  {
   "cell_type": "markdown",
   "id": "34e3eca8",
   "metadata": {},
   "source": [
    "#### Features with boolean values as follows:"
   ]
  },
  {
   "cell_type": "code",
   "execution_count": 32,
   "id": "2d6eb2ae",
   "metadata": {},
   "outputs": [
    {
     "data": {
      "text/plain": [
       "array([0, 'ac'], dtype=object)"
      ]
     },
     "execution_count": 32,
     "metadata": {},
     "output_type": "execute_result"
    }
   ],
   "source": [
    "measurements_df['AC'].unique()\n",
    "# measurements_df['rain'].unique()\n",
    "# measurements_df['sun'].unique()"
   ]
  },
  {
   "cell_type": "markdown",
   "id": "c3961c6f",
   "metadata": {},
   "source": [
    "#### Interpolate values to fill the 12 NaN values for:\n",
    "\n",
    "- temp_inside"
   ]
  },
  {
   "cell_type": "code",
   "execution_count": 33,
   "id": "382bc17b",
   "metadata": {},
   "outputs": [],
   "source": [
    "measurements_df.interpolate(method='linear', inplace=True)"
   ]
  },
  {
   "cell_type": "code",
   "execution_count": 34,
   "id": "07829614",
   "metadata": {},
   "outputs": [
    {
     "data": {
      "text/html": [
       "<div>\n",
       "<style scoped>\n",
       "    .dataframe tbody tr th:only-of-type {\n",
       "        vertical-align: middle;\n",
       "    }\n",
       "\n",
       "    .dataframe tbody tr th {\n",
       "        vertical-align: top;\n",
       "    }\n",
       "\n",
       "    .dataframe thead th {\n",
       "        text-align: right;\n",
       "    }\n",
       "</style>\n",
       "<table border=\"1\" class=\"dataframe\">\n",
       "  <thead>\n",
       "    <tr style=\"text-align: right;\">\n",
       "      <th></th>\n",
       "      <th>gas_type</th>\n",
       "      <th>distance</th>\n",
       "      <th>consume</th>\n",
       "      <th>speed</th>\n",
       "      <th>temp_inside</th>\n",
       "      <th>temp_outside</th>\n",
       "      <th>AC</th>\n",
       "      <th>rain</th>\n",
       "      <th>sun</th>\n",
       "      <th>weather_mix</th>\n",
       "    </tr>\n",
       "  </thead>\n",
       "  <tbody>\n",
       "    <tr>\n",
       "      <th>0</th>\n",
       "      <td>E10</td>\n",
       "      <td>28.0</td>\n",
       "      <td>5.0</td>\n",
       "      <td>26</td>\n",
       "      <td>21.5</td>\n",
       "      <td>12.0</td>\n",
       "      <td>0</td>\n",
       "      <td>0</td>\n",
       "      <td>0</td>\n",
       "      <td>ac OFF</td>\n",
       "    </tr>\n",
       "    <tr>\n",
       "      <th>1</th>\n",
       "      <td>E10</td>\n",
       "      <td>12.0</td>\n",
       "      <td>4.2</td>\n",
       "      <td>30</td>\n",
       "      <td>21.5</td>\n",
       "      <td>13.0</td>\n",
       "      <td>0</td>\n",
       "      <td>0</td>\n",
       "      <td>0</td>\n",
       "      <td>ac OFF</td>\n",
       "    </tr>\n",
       "    <tr>\n",
       "      <th>2</th>\n",
       "      <td>E10</td>\n",
       "      <td>11.2</td>\n",
       "      <td>5.5</td>\n",
       "      <td>38</td>\n",
       "      <td>21.5</td>\n",
       "      <td>15.0</td>\n",
       "      <td>0</td>\n",
       "      <td>0</td>\n",
       "      <td>0</td>\n",
       "      <td>ac OFF</td>\n",
       "    </tr>\n",
       "    <tr>\n",
       "      <th>3</th>\n",
       "      <td>E10</td>\n",
       "      <td>12.9</td>\n",
       "      <td>3.9</td>\n",
       "      <td>36</td>\n",
       "      <td>21.5</td>\n",
       "      <td>14.0</td>\n",
       "      <td>0</td>\n",
       "      <td>0</td>\n",
       "      <td>0</td>\n",
       "      <td>ac OFF</td>\n",
       "    </tr>\n",
       "    <tr>\n",
       "      <th>4</th>\n",
       "      <td>E10</td>\n",
       "      <td>18.5</td>\n",
       "      <td>4.5</td>\n",
       "      <td>46</td>\n",
       "      <td>21.5</td>\n",
       "      <td>15.0</td>\n",
       "      <td>0</td>\n",
       "      <td>0</td>\n",
       "      <td>0</td>\n",
       "      <td>ac OFF</td>\n",
       "    </tr>\n",
       "  </tbody>\n",
       "</table>\n",
       "</div>"
      ],
      "text/plain": [
       "  gas_type  distance  consume  speed  temp_inside  temp_outside AC rain sun  \\\n",
       "0      E10      28.0      5.0     26         21.5          12.0  0    0   0   \n",
       "1      E10      12.0      4.2     30         21.5          13.0  0    0   0   \n",
       "2      E10      11.2      5.5     38         21.5          15.0  0    0   0   \n",
       "3      E10      12.9      3.9     36         21.5          14.0  0    0   0   \n",
       "4      E10      18.5      4.5     46         21.5          15.0  0    0   0   \n",
       "\n",
       "  weather_mix  \n",
       "0      ac OFF  \n",
       "1      ac OFF  \n",
       "2      ac OFF  \n",
       "3      ac OFF  \n",
       "4      ac OFF  "
      ]
     },
     "execution_count": 34,
     "metadata": {},
     "output_type": "execute_result"
    }
   ],
   "source": [
    "measurements_df.head()"
   ]
  },
  {
   "cell_type": "code",
   "execution_count": 35,
   "id": "aa713a7d",
   "metadata": {},
   "outputs": [
    {
     "name": "stdout",
     "output_type": "stream",
     "text": [
      "<class 'pandas.core.frame.DataFrame'>\n",
      "RangeIndex: 388 entries, 0 to 387\n",
      "Data columns (total 10 columns):\n",
      " #   Column        Non-Null Count  Dtype  \n",
      "---  ------        --------------  -----  \n",
      " 0   gas_type      388 non-null    object \n",
      " 1   distance      388 non-null    float64\n",
      " 2   consume       388 non-null    float64\n",
      " 3   speed         388 non-null    int64  \n",
      " 4   temp_inside   388 non-null    float64\n",
      " 5   temp_outside  388 non-null    float64\n",
      " 6   AC            388 non-null    object \n",
      " 7   rain          388 non-null    object \n",
      " 8   sun           388 non-null    object \n",
      " 9   weather_mix   388 non-null    object \n",
      "dtypes: float64(4), int64(1), object(5)\n",
      "memory usage: 30.4+ KB\n"
     ]
    }
   ],
   "source": [
    "measurements_df.info()"
   ]
  },
  {
   "cell_type": "code",
   "execution_count": 36,
   "id": "77904087",
   "metadata": {},
   "outputs": [],
   "source": [
    "measurements_corr = round(measurements_df.corr(numeric_only=True), 2)"
   ]
  },
  {
   "cell_type": "code",
   "execution_count": 37,
   "id": "b35fe1a6",
   "metadata": {},
   "outputs": [
    {
     "data": {
      "text/html": [
       "<style type=\"text/css\">\n",
       "#T_0d6bd_row0_col0, #T_0d6bd_row1_col1, #T_0d6bd_row2_col2, #T_0d6bd_row3_col3, #T_0d6bd_row4_col4 {\n",
       "  background-color: #b40426;\n",
       "  color: #f1f1f1;\n",
       "}\n",
       "#T_0d6bd_row0_col1 {\n",
       "  background-color: #6788ee;\n",
       "  color: #f1f1f1;\n",
       "}\n",
       "#T_0d6bd_row0_col2 {\n",
       "  background-color: #f6bfa6;\n",
       "  color: #000000;\n",
       "}\n",
       "#T_0d6bd_row0_col3 {\n",
       "  background-color: #7b9ff9;\n",
       "  color: #f1f1f1;\n",
       "}\n",
       "#T_0d6bd_row0_col4 {\n",
       "  background-color: #a2c1ff;\n",
       "  color: #000000;\n",
       "}\n",
       "#T_0d6bd_row1_col0, #T_0d6bd_row1_col2, #T_0d6bd_row1_col3, #T_0d6bd_row1_col4, #T_0d6bd_row4_col1 {\n",
       "  background-color: #3b4cc0;\n",
       "  color: #f1f1f1;\n",
       "}\n",
       "#T_0d6bd_row2_col0 {\n",
       "  background-color: #f3c8b2;\n",
       "  color: #000000;\n",
       "}\n",
       "#T_0d6bd_row2_col1 {\n",
       "  background-color: #4f69d9;\n",
       "  color: #f1f1f1;\n",
       "}\n",
       "#T_0d6bd_row2_col3 {\n",
       "  background-color: #7597f6;\n",
       "  color: #f1f1f1;\n",
       "}\n",
       "#T_0d6bd_row2_col4 {\n",
       "  background-color: #8fb1fe;\n",
       "  color: #000000;\n",
       "}\n",
       "#T_0d6bd_row3_col0 {\n",
       "  background-color: #7699f6;\n",
       "  color: #f1f1f1;\n",
       "}\n",
       "#T_0d6bd_row3_col1 {\n",
       "  background-color: #6282ea;\n",
       "  color: #f1f1f1;\n",
       "}\n",
       "#T_0d6bd_row3_col2 {\n",
       "  background-color: #88abfd;\n",
       "  color: #000000;\n",
       "}\n",
       "#T_0d6bd_row3_col4 {\n",
       "  background-color: #dedcdb;\n",
       "  color: #000000;\n",
       "}\n",
       "#T_0d6bd_row4_col0 {\n",
       "  background-color: #799cf8;\n",
       "  color: #f1f1f1;\n",
       "}\n",
       "#T_0d6bd_row4_col2 {\n",
       "  background-color: #7da0f9;\n",
       "  color: #f1f1f1;\n",
       "}\n",
       "#T_0d6bd_row4_col3 {\n",
       "  background-color: #cbd8ee;\n",
       "  color: #000000;\n",
       "}\n",
       "</style>\n",
       "<table id=\"T_0d6bd\">\n",
       "  <thead>\n",
       "    <tr>\n",
       "      <th class=\"blank level0\" >&nbsp;</th>\n",
       "      <th id=\"T_0d6bd_level0_col0\" class=\"col_heading level0 col0\" >distance</th>\n",
       "      <th id=\"T_0d6bd_level0_col1\" class=\"col_heading level0 col1\" >consume</th>\n",
       "      <th id=\"T_0d6bd_level0_col2\" class=\"col_heading level0 col2\" >speed</th>\n",
       "      <th id=\"T_0d6bd_level0_col3\" class=\"col_heading level0 col3\" >temp_inside</th>\n",
       "      <th id=\"T_0d6bd_level0_col4\" class=\"col_heading level0 col4\" >temp_outside</th>\n",
       "    </tr>\n",
       "  </thead>\n",
       "  <tbody>\n",
       "    <tr>\n",
       "      <th id=\"T_0d6bd_level0_row0\" class=\"row_heading level0 row0\" >distance</th>\n",
       "      <td id=\"T_0d6bd_row0_col0\" class=\"data row0 col0\" >1.000000</td>\n",
       "      <td id=\"T_0d6bd_row0_col1\" class=\"data row0 col1\" >-0.130000</td>\n",
       "      <td id=\"T_0d6bd_row0_col2\" class=\"data row0 col2\" >0.560000</td>\n",
       "      <td id=\"T_0d6bd_row0_col3\" class=\"data row0 col3\" >0.080000</td>\n",
       "      <td id=\"T_0d6bd_row0_col4\" class=\"data row0 col4\" >0.090000</td>\n",
       "    </tr>\n",
       "    <tr>\n",
       "      <th id=\"T_0d6bd_level0_row1\" class=\"row_heading level0 row1\" >consume</th>\n",
       "      <td id=\"T_0d6bd_row1_col0\" class=\"data row1 col0\" >-0.130000</td>\n",
       "      <td id=\"T_0d6bd_row1_col1\" class=\"data row1 col1\" >1.000000</td>\n",
       "      <td id=\"T_0d6bd_row1_col2\" class=\"data row1 col2\" >-0.230000</td>\n",
       "      <td id=\"T_0d6bd_row1_col3\" class=\"data row1 col3\" >-0.150000</td>\n",
       "      <td id=\"T_0d6bd_row1_col4\" class=\"data row1 col4\" >-0.320000</td>\n",
       "    </tr>\n",
       "    <tr>\n",
       "      <th id=\"T_0d6bd_level0_row2\" class=\"row_heading level0 row2\" >speed</th>\n",
       "      <td id=\"T_0d6bd_row2_col0\" class=\"data row2 col0\" >0.560000</td>\n",
       "      <td id=\"T_0d6bd_row2_col1\" class=\"data row2 col1\" >-0.230000</td>\n",
       "      <td id=\"T_0d6bd_row2_col2\" class=\"data row2 col2\" >1.000000</td>\n",
       "      <td id=\"T_0d6bd_row2_col3\" class=\"data row2 col3\" >0.060000</td>\n",
       "      <td id=\"T_0d6bd_row2_col4\" class=\"data row2 col4\" >0.020000</td>\n",
       "    </tr>\n",
       "    <tr>\n",
       "      <th id=\"T_0d6bd_level0_row3\" class=\"row_heading level0 row3\" >temp_inside</th>\n",
       "      <td id=\"T_0d6bd_row3_col0\" class=\"data row3 col0\" >0.080000</td>\n",
       "      <td id=\"T_0d6bd_row3_col1\" class=\"data row3 col1\" >-0.150000</td>\n",
       "      <td id=\"T_0d6bd_row3_col2\" class=\"data row3 col2\" >0.060000</td>\n",
       "      <td id=\"T_0d6bd_row3_col3\" class=\"data row3 col3\" >1.000000</td>\n",
       "      <td id=\"T_0d6bd_row3_col4\" class=\"data row3 col4\" >0.350000</td>\n",
       "    </tr>\n",
       "    <tr>\n",
       "      <th id=\"T_0d6bd_level0_row4\" class=\"row_heading level0 row4\" >temp_outside</th>\n",
       "      <td id=\"T_0d6bd_row4_col0\" class=\"data row4 col0\" >0.090000</td>\n",
       "      <td id=\"T_0d6bd_row4_col1\" class=\"data row4 col1\" >-0.320000</td>\n",
       "      <td id=\"T_0d6bd_row4_col2\" class=\"data row4 col2\" >0.020000</td>\n",
       "      <td id=\"T_0d6bd_row4_col3\" class=\"data row4 col3\" >0.350000</td>\n",
       "      <td id=\"T_0d6bd_row4_col4\" class=\"data row4 col4\" >1.000000</td>\n",
       "    </tr>\n",
       "  </tbody>\n",
       "</table>\n"
      ],
      "text/plain": [
       "<pandas.io.formats.style.Styler at 0x27e2d2e9780>"
      ]
     },
     "execution_count": 37,
     "metadata": {},
     "output_type": "execute_result"
    }
   ],
   "source": [
    "measurements_corr.style.background_gradient(cmap='coolwarm')"
   ]
  },
  {
   "cell_type": "markdown",
   "id": "336c3690",
   "metadata": {},
   "source": [
    "However, there is a low correlation between the variables."
   ]
  },
  {
   "cell_type": "code",
   "execution_count": 38,
   "id": "575c0360",
   "metadata": {},
   "outputs": [
    {
     "data": {
      "text/html": [
       "<div>\n",
       "<style scoped>\n",
       "    .dataframe tbody tr th:only-of-type {\n",
       "        vertical-align: middle;\n",
       "    }\n",
       "\n",
       "    .dataframe tbody tr th {\n",
       "        vertical-align: top;\n",
       "    }\n",
       "\n",
       "    .dataframe thead th {\n",
       "        text-align: right;\n",
       "    }\n",
       "</style>\n",
       "<table border=\"1\" class=\"dataframe\">\n",
       "  <thead>\n",
       "    <tr style=\"text-align: right;\">\n",
       "      <th></th>\n",
       "      <th>exp_id</th>\n",
       "      <th>gas_type</th>\n",
       "      <th>distance</th>\n",
       "      <th>consume</th>\n",
       "      <th>speed</th>\n",
       "      <th>temp_inside</th>\n",
       "      <th>temp_outside</th>\n",
       "      <th>AC</th>\n",
       "      <th>rain</th>\n",
       "      <th>sun</th>\n",
       "      <th>weather_mix</th>\n",
       "    </tr>\n",
       "  </thead>\n",
       "  <tbody>\n",
       "    <tr>\n",
       "      <th>0</th>\n",
       "      <td>1</td>\n",
       "      <td>E10</td>\n",
       "      <td>28.0</td>\n",
       "      <td>5.0</td>\n",
       "      <td>26</td>\n",
       "      <td>21.5</td>\n",
       "      <td>12.0</td>\n",
       "      <td>0</td>\n",
       "      <td>0</td>\n",
       "      <td>0</td>\n",
       "      <td>ac OFF</td>\n",
       "    </tr>\n",
       "    <tr>\n",
       "      <th>1</th>\n",
       "      <td>2</td>\n",
       "      <td>E10</td>\n",
       "      <td>12.0</td>\n",
       "      <td>4.2</td>\n",
       "      <td>30</td>\n",
       "      <td>21.5</td>\n",
       "      <td>13.0</td>\n",
       "      <td>0</td>\n",
       "      <td>0</td>\n",
       "      <td>0</td>\n",
       "      <td>ac OFF</td>\n",
       "    </tr>\n",
       "    <tr>\n",
       "      <th>2</th>\n",
       "      <td>3</td>\n",
       "      <td>E10</td>\n",
       "      <td>11.2</td>\n",
       "      <td>5.5</td>\n",
       "      <td>38</td>\n",
       "      <td>21.5</td>\n",
       "      <td>15.0</td>\n",
       "      <td>0</td>\n",
       "      <td>0</td>\n",
       "      <td>0</td>\n",
       "      <td>ac OFF</td>\n",
       "    </tr>\n",
       "    <tr>\n",
       "      <th>3</th>\n",
       "      <td>4</td>\n",
       "      <td>E10</td>\n",
       "      <td>12.9</td>\n",
       "      <td>3.9</td>\n",
       "      <td>36</td>\n",
       "      <td>21.5</td>\n",
       "      <td>14.0</td>\n",
       "      <td>0</td>\n",
       "      <td>0</td>\n",
       "      <td>0</td>\n",
       "      <td>ac OFF</td>\n",
       "    </tr>\n",
       "    <tr>\n",
       "      <th>4</th>\n",
       "      <td>5</td>\n",
       "      <td>E10</td>\n",
       "      <td>18.5</td>\n",
       "      <td>4.5</td>\n",
       "      <td>46</td>\n",
       "      <td>21.5</td>\n",
       "      <td>15.0</td>\n",
       "      <td>0</td>\n",
       "      <td>0</td>\n",
       "      <td>0</td>\n",
       "      <td>ac OFF</td>\n",
       "    </tr>\n",
       "  </tbody>\n",
       "</table>\n",
       "</div>"
      ],
      "text/plain": [
       "   exp_id gas_type  distance  consume  speed  temp_inside  temp_outside AC  \\\n",
       "0       1      E10      28.0      5.0     26         21.5          12.0  0   \n",
       "1       2      E10      12.0      4.2     30         21.5          13.0  0   \n",
       "2       3      E10      11.2      5.5     38         21.5          15.0  0   \n",
       "3       4      E10      12.9      3.9     36         21.5          14.0  0   \n",
       "4       5      E10      18.5      4.5     46         21.5          15.0  0   \n",
       "\n",
       "  rain sun weather_mix  \n",
       "0    0   0      ac OFF  \n",
       "1    0   0      ac OFF  \n",
       "2    0   0      ac OFF  \n",
       "3    0   0      ac OFF  \n",
       "4    0   0      ac OFF  "
      ]
     },
     "execution_count": 38,
     "metadata": {},
     "output_type": "execute_result"
    }
   ],
   "source": [
    "# Creating a relational-ish table df (for the end)\n",
    "measurements_df['exp_id'] = range(1, len(measurements_df) + 1)\n",
    "measurements_df.insert(0, 'exp_id', measurements_df.pop('exp_id'))\n",
    "measurements_df.head()"
   ]
  },
  {
   "cell_type": "code",
   "execution_count": 39,
   "id": "08288c29",
   "metadata": {},
   "outputs": [],
   "source": [
    "exp_df = measurements_df.copy()"
   ]
  },
  {
   "cell_type": "markdown",
   "id": "bb1815a6",
   "metadata": {},
   "source": [
    "## Feature Engineering:"
   ]
  },
  {
   "cell_type": "markdown",
   "id": "8ea420a1",
   "metadata": {},
   "source": [
    "I am going to merge the features **['distance','consume']** into the feature related to consumption rate per distance unit (kms)"
   ]
  },
  {
   "cell_type": "code",
   "execution_count": 40,
   "id": "c787f9d8",
   "metadata": {},
   "outputs": [],
   "source": [
    "measurements_df['consume_rate'] = round(measurements_df['consume'] / measurements_df['distance'],2)\n",
    "measurements_df.drop(columns=['distance', 'consume'], inplace=True)"
   ]
  },
  {
   "cell_type": "code",
   "execution_count": 41,
   "id": "b39e46c5",
   "metadata": {},
   "outputs": [
    {
     "data": {
      "text/html": [
       "<div>\n",
       "<style scoped>\n",
       "    .dataframe tbody tr th:only-of-type {\n",
       "        vertical-align: middle;\n",
       "    }\n",
       "\n",
       "    .dataframe tbody tr th {\n",
       "        vertical-align: top;\n",
       "    }\n",
       "\n",
       "    .dataframe thead th {\n",
       "        text-align: right;\n",
       "    }\n",
       "</style>\n",
       "<table border=\"1\" class=\"dataframe\">\n",
       "  <thead>\n",
       "    <tr style=\"text-align: right;\">\n",
       "      <th></th>\n",
       "      <th>exp_id</th>\n",
       "      <th>gas_type</th>\n",
       "      <th>speed</th>\n",
       "      <th>temp_inside</th>\n",
       "      <th>temp_outside</th>\n",
       "      <th>AC</th>\n",
       "      <th>rain</th>\n",
       "      <th>sun</th>\n",
       "      <th>weather_mix</th>\n",
       "      <th>consume_rate</th>\n",
       "    </tr>\n",
       "  </thead>\n",
       "  <tbody>\n",
       "    <tr>\n",
       "      <th>0</th>\n",
       "      <td>1</td>\n",
       "      <td>E10</td>\n",
       "      <td>26</td>\n",
       "      <td>21.5</td>\n",
       "      <td>12.0</td>\n",
       "      <td>0</td>\n",
       "      <td>0</td>\n",
       "      <td>0</td>\n",
       "      <td>ac OFF</td>\n",
       "      <td>0.18</td>\n",
       "    </tr>\n",
       "    <tr>\n",
       "      <th>1</th>\n",
       "      <td>2</td>\n",
       "      <td>E10</td>\n",
       "      <td>30</td>\n",
       "      <td>21.5</td>\n",
       "      <td>13.0</td>\n",
       "      <td>0</td>\n",
       "      <td>0</td>\n",
       "      <td>0</td>\n",
       "      <td>ac OFF</td>\n",
       "      <td>0.35</td>\n",
       "    </tr>\n",
       "    <tr>\n",
       "      <th>2</th>\n",
       "      <td>3</td>\n",
       "      <td>E10</td>\n",
       "      <td>38</td>\n",
       "      <td>21.5</td>\n",
       "      <td>15.0</td>\n",
       "      <td>0</td>\n",
       "      <td>0</td>\n",
       "      <td>0</td>\n",
       "      <td>ac OFF</td>\n",
       "      <td>0.49</td>\n",
       "    </tr>\n",
       "    <tr>\n",
       "      <th>3</th>\n",
       "      <td>4</td>\n",
       "      <td>E10</td>\n",
       "      <td>36</td>\n",
       "      <td>21.5</td>\n",
       "      <td>14.0</td>\n",
       "      <td>0</td>\n",
       "      <td>0</td>\n",
       "      <td>0</td>\n",
       "      <td>ac OFF</td>\n",
       "      <td>0.30</td>\n",
       "    </tr>\n",
       "    <tr>\n",
       "      <th>4</th>\n",
       "      <td>5</td>\n",
       "      <td>E10</td>\n",
       "      <td>46</td>\n",
       "      <td>21.5</td>\n",
       "      <td>15.0</td>\n",
       "      <td>0</td>\n",
       "      <td>0</td>\n",
       "      <td>0</td>\n",
       "      <td>ac OFF</td>\n",
       "      <td>0.24</td>\n",
       "    </tr>\n",
       "  </tbody>\n",
       "</table>\n",
       "</div>"
      ],
      "text/plain": [
       "   exp_id gas_type  speed  temp_inside  temp_outside AC rain sun weather_mix  \\\n",
       "0       1      E10     26         21.5          12.0  0    0   0      ac OFF   \n",
       "1       2      E10     30         21.5          13.0  0    0   0      ac OFF   \n",
       "2       3      E10     38         21.5          15.0  0    0   0      ac OFF   \n",
       "3       4      E10     36         21.5          14.0  0    0   0      ac OFF   \n",
       "4       5      E10     46         21.5          15.0  0    0   0      ac OFF   \n",
       "\n",
       "   consume_rate  \n",
       "0          0.18  \n",
       "1          0.35  \n",
       "2          0.49  \n",
       "3          0.30  \n",
       "4          0.24  "
      ]
     },
     "execution_count": 41,
     "metadata": {},
     "output_type": "execute_result"
    }
   ],
   "source": [
    "measurements_df.head()"
   ]
  },
  {
   "cell_type": "markdown",
   "id": "8032fbcc",
   "metadata": {},
   "source": [
    "#### How many variables of each data type do we have in the data set?"
   ]
  },
  {
   "cell_type": "code",
   "execution_count": 42,
   "id": "c4d0a8cb",
   "metadata": {},
   "outputs": [
    {
     "data": {
      "text/plain": [
       "object     5\n",
       "float64    3\n",
       "int64      2\n",
       "Name: count, dtype: int64"
      ]
     },
     "execution_count": 42,
     "metadata": {},
     "output_type": "execute_result"
    }
   ],
   "source": [
    "measurements_df.dtypes.value_counts()"
   ]
  },
  {
   "cell_type": "markdown",
   "id": "55093a58",
   "metadata": {},
   "source": [
    "#### How many variables and observations do we have in the data set?"
   ]
  },
  {
   "cell_type": "code",
   "execution_count": 43,
   "id": "833be8e6",
   "metadata": {},
   "outputs": [
    {
     "data": {
      "text/plain": [
       "(388, 10)"
      ]
     },
     "execution_count": 43,
     "metadata": {},
     "output_type": "execute_result"
    }
   ],
   "source": [
    "measurements_df.shape # We have 388 observations and 12 variables"
   ]
  },
  {
   "cell_type": "code",
   "execution_count": 44,
   "id": "d4b78670",
   "metadata": {},
   "outputs": [
    {
     "data": {
      "text/html": [
       "<div>\n",
       "<style scoped>\n",
       "    .dataframe tbody tr th:only-of-type {\n",
       "        vertical-align: middle;\n",
       "    }\n",
       "\n",
       "    .dataframe tbody tr th {\n",
       "        vertical-align: top;\n",
       "    }\n",
       "\n",
       "    .dataframe thead th {\n",
       "        text-align: right;\n",
       "    }\n",
       "</style>\n",
       "<table border=\"1\" class=\"dataframe\">\n",
       "  <thead>\n",
       "    <tr style=\"text-align: right;\">\n",
       "      <th></th>\n",
       "      <th>exp_id</th>\n",
       "      <th>speed</th>\n",
       "      <th>temp_inside</th>\n",
       "      <th>temp_outside</th>\n",
       "      <th>consume_rate</th>\n",
       "    </tr>\n",
       "  </thead>\n",
       "  <tbody>\n",
       "    <tr>\n",
       "      <th>count</th>\n",
       "      <td>388.00</td>\n",
       "      <td>388.00</td>\n",
       "      <td>388.00</td>\n",
       "      <td>388.00</td>\n",
       "      <td>388.00</td>\n",
       "    </tr>\n",
       "    <tr>\n",
       "      <th>mean</th>\n",
       "      <td>194.50</td>\n",
       "      <td>41.93</td>\n",
       "      <td>21.90</td>\n",
       "      <td>11.36</td>\n",
       "      <td>0.48</td>\n",
       "    </tr>\n",
       "    <tr>\n",
       "      <th>std</th>\n",
       "      <td>112.15</td>\n",
       "      <td>13.60</td>\n",
       "      <td>1.02</td>\n",
       "      <td>6.99</td>\n",
       "      <td>0.77</td>\n",
       "    </tr>\n",
       "    <tr>\n",
       "      <th>min</th>\n",
       "      <td>1.00</td>\n",
       "      <td>14.00</td>\n",
       "      <td>19.00</td>\n",
       "      <td>-5.00</td>\n",
       "      <td>0.02</td>\n",
       "    </tr>\n",
       "    <tr>\n",
       "      <th>25%</th>\n",
       "      <td>97.75</td>\n",
       "      <td>32.75</td>\n",
       "      <td>21.50</td>\n",
       "      <td>7.00</td>\n",
       "      <td>0.23</td>\n",
       "    </tr>\n",
       "    <tr>\n",
       "      <th>50%</th>\n",
       "      <td>194.50</td>\n",
       "      <td>40.50</td>\n",
       "      <td>22.00</td>\n",
       "      <td>10.00</td>\n",
       "      <td>0.32</td>\n",
       "    </tr>\n",
       "    <tr>\n",
       "      <th>75%</th>\n",
       "      <td>291.25</td>\n",
       "      <td>50.00</td>\n",
       "      <td>22.50</td>\n",
       "      <td>16.00</td>\n",
       "      <td>0.43</td>\n",
       "    </tr>\n",
       "    <tr>\n",
       "      <th>max</th>\n",
       "      <td>388.00</td>\n",
       "      <td>90.00</td>\n",
       "      <td>25.50</td>\n",
       "      <td>31.00</td>\n",
       "      <td>8.85</td>\n",
       "    </tr>\n",
       "  </tbody>\n",
       "</table>\n",
       "</div>"
      ],
      "text/plain": [
       "       exp_id   speed  temp_inside  temp_outside  consume_rate\n",
       "count  388.00  388.00       388.00        388.00        388.00\n",
       "mean   194.50   41.93        21.90         11.36          0.48\n",
       "std    112.15   13.60         1.02          6.99          0.77\n",
       "min      1.00   14.00        19.00         -5.00          0.02\n",
       "25%     97.75   32.75        21.50          7.00          0.23\n",
       "50%    194.50   40.50        22.00         10.00          0.32\n",
       "75%    291.25   50.00        22.50         16.00          0.43\n",
       "max    388.00   90.00        25.50         31.00          8.85"
      ]
     },
     "execution_count": 44,
     "metadata": {},
     "output_type": "execute_result"
    }
   ],
   "source": [
    "round(measurements_df.describe(),2)"
   ]
  },
  {
   "cell_type": "markdown",
   "id": "15f96f45",
   "metadata": {},
   "source": [
    "## Feature comparisons (numeric vs categorical) and detecting bivariate outliers"
   ]
  },
  {
   "cell_type": "markdown",
   "id": "32f10f15",
   "metadata": {},
   "source": [
    "#### Consume rate vs. Gas Type"
   ]
  },
  {
   "cell_type": "code",
   "execution_count": 45,
   "id": "7632c613",
   "metadata": {},
   "outputs": [
    {
     "data": {
      "image/png": "[encoded data removed]",
      "text/plain": [
       "<Figure size 640x480 with 1 Axes>"
      ]
     },
     "metadata": {},
     "output_type": "display_data"
    }
   ],
   "source": [
    "# Create a box plot with seaborn\n",
    "\n",
    "ax = sns.boxplot(\n",
    "    data=measurements_df,\n",
    "    x='consume_rate',\n",
    "    y='gas_type',    \n",
    "    whis=np.inf  # Set whiskers to cover entire range of data\n",
    ")\n",
    "\n",
    "# Create a strip plot with seaborn\n",
    "\n",
    "ax = sns.stripplot(\n",
    "    data=measurements_df,\n",
    "    x='consume_rate',\n",
    "    y='gas_type',\n",
    "    color='.3'\n",
    ")\n",
    "plt.grid(True) # Add grid lines to the plot\n",
    "plt.show()"
   ]
  },
  {
   "cell_type": "markdown",
   "id": "5e5ac78e",
   "metadata": {},
   "source": [
    "Despite the evident outliers, **E10** tends to consume less than **SP98**"
   ]
  },
  {
   "cell_type": "markdown",
   "id": "2ba191ce",
   "metadata": {},
   "source": [
    "#### Speed vs. Gas Type"
   ]
  },
  {
   "cell_type": "code",
   "execution_count": 46,
   "id": "2d40e749",
   "metadata": {},
   "outputs": [
    {
     "data": {
      "image/png": "[encoded data removed]",
      "text/plain": [
       "<Figure size 640x480 with 1 Axes>"
      ]
     },
     "metadata": {},
     "output_type": "display_data"
    }
   ],
   "source": [
    "ax = sns.boxplot(\n",
    "    data=measurements_df,\n",
    "    x='speed',\n",
    "    y='gas_type',    \n",
    "    whis=np.inf\n",
    ")\n",
    "\n",
    "ax = sns.stripplot(\n",
    "    data=measurements_df,\n",
    "    x='speed',\n",
    "    y='gas_type',\n",
    "    color='.3'\n",
    ")\n",
    "plt.grid(True)\n",
    "plt.show()"
   ]
  },
  {
   "cell_type": "markdown",
   "id": "d362dad8",
   "metadata": {},
   "source": [
    "**E10** tends to be faster than **SP98**. By now, **E10** could be the best choice (by now)"
   ]
  },
  {
   "cell_type": "markdown",
   "id": "cb03754e",
   "metadata": {},
   "source": [
    "## Detecting Multivariate outliers (scatterplot among numericals)"
   ]
  },
  {
   "cell_type": "code",
   "execution_count": 47,
   "id": "24ae5933",
   "metadata": {},
   "outputs": [
    {
     "data": {
      "image/png": "[encoded data removed]",
      "text/plain": [
       "<Figure size 640x480 with 1 Axes>"
      ]
     },
     "metadata": {},
     "output_type": "display_data"
    }
   ],
   "source": [
    "sns.scatterplot(x='speed', y='consume_rate', hue='gas_type', data=measurements_df)\n",
    "plt.grid(True)\n",
    "plt.show()"
   ]
  },
  {
   "cell_type": "markdown",
   "id": "06af9f85",
   "metadata": {},
   "source": [
    "The consume rate for both gas types are more clustered **under the consume rate of 2 lts per km**"
   ]
  },
  {
   "cell_type": "code",
   "execution_count": 48,
   "id": "6d4261a5",
   "metadata": {},
   "outputs": [
    {
     "data": {
      "image/png": "[encoded data removed]",
      "text/plain": [
       "<Figure size 640x480 with 1 Axes>"
      ]
     },
     "metadata": {},
     "output_type": "display_data"
    }
   ],
   "source": [
    "# Create a swarm plot with seaborn\n",
    "\n",
    "sns.swarmplot(\n",
    "    data=measurements_df,\n",
    "    x='consume_rate',\n",
    "    y='gas_type',\n",
    "    hue='gas_type',    \n",
    ")\n",
    "\n",
    "# I can adjust the x axis (consume_rate) to get an approach\n",
    "plt.xlim(-0.5, 2)\n",
    "plt.grid(True)\n",
    "plt.show()"
   ]
  },
  {
   "cell_type": "markdown",
   "id": "488aaaeb",
   "metadata": {},
   "source": [
    "#### I am going to get this analysis per Gas Type"
   ]
  },
  {
   "cell_type": "markdown",
   "id": "b263e3cf",
   "metadata": {},
   "source": [
    "## Data cleaning - Outliers per Gas Type"
   ]
  },
  {
   "cell_type": "code",
   "execution_count": 49,
   "id": "f70ff8fd",
   "metadata": {},
   "outputs": [],
   "source": [
    "# Splitting the main dataframe per gas type\n",
    "e10_df = measurements_df[measurements_df['gas_type'] == 'E10']\n",
    "sp98_df = measurements_df[measurements_df['gas_type'] == 'SP98']"
   ]
  },
  {
   "cell_type": "code",
   "execution_count": 50,
   "id": "be94ede4",
   "metadata": {},
   "outputs": [
    {
     "data": {
      "text/html": [
       "<div>\n",
       "<style scoped>\n",
       "    .dataframe tbody tr th:only-of-type {\n",
       "        vertical-align: middle;\n",
       "    }\n",
       "\n",
       "    .dataframe tbody tr th {\n",
       "        vertical-align: top;\n",
       "    }\n",
       "\n",
       "    .dataframe thead th {\n",
       "        text-align: right;\n",
       "    }\n",
       "</style>\n",
       "<table border=\"1\" class=\"dataframe\">\n",
       "  <thead>\n",
       "    <tr style=\"text-align: right;\">\n",
       "      <th></th>\n",
       "      <th>exp_id</th>\n",
       "      <th>gas_type</th>\n",
       "      <th>speed</th>\n",
       "      <th>temp_inside</th>\n",
       "      <th>temp_outside</th>\n",
       "      <th>AC</th>\n",
       "      <th>rain</th>\n",
       "      <th>sun</th>\n",
       "      <th>weather_mix</th>\n",
       "      <th>consume_rate</th>\n",
       "    </tr>\n",
       "  </thead>\n",
       "  <tbody>\n",
       "    <tr>\n",
       "      <th>0</th>\n",
       "      <td>1</td>\n",
       "      <td>E10</td>\n",
       "      <td>26</td>\n",
       "      <td>21.5</td>\n",
       "      <td>12.0</td>\n",
       "      <td>0</td>\n",
       "      <td>0</td>\n",
       "      <td>0</td>\n",
       "      <td>ac OFF</td>\n",
       "      <td>0.18</td>\n",
       "    </tr>\n",
       "    <tr>\n",
       "      <th>1</th>\n",
       "      <td>2</td>\n",
       "      <td>E10</td>\n",
       "      <td>30</td>\n",
       "      <td>21.5</td>\n",
       "      <td>13.0</td>\n",
       "      <td>0</td>\n",
       "      <td>0</td>\n",
       "      <td>0</td>\n",
       "      <td>ac OFF</td>\n",
       "      <td>0.35</td>\n",
       "    </tr>\n",
       "    <tr>\n",
       "      <th>2</th>\n",
       "      <td>3</td>\n",
       "      <td>E10</td>\n",
       "      <td>38</td>\n",
       "      <td>21.5</td>\n",
       "      <td>15.0</td>\n",
       "      <td>0</td>\n",
       "      <td>0</td>\n",
       "      <td>0</td>\n",
       "      <td>ac OFF</td>\n",
       "      <td>0.49</td>\n",
       "    </tr>\n",
       "    <tr>\n",
       "      <th>3</th>\n",
       "      <td>4</td>\n",
       "      <td>E10</td>\n",
       "      <td>36</td>\n",
       "      <td>21.5</td>\n",
       "      <td>14.0</td>\n",
       "      <td>0</td>\n",
       "      <td>0</td>\n",
       "      <td>0</td>\n",
       "      <td>ac OFF</td>\n",
       "      <td>0.30</td>\n",
       "    </tr>\n",
       "    <tr>\n",
       "      <th>4</th>\n",
       "      <td>5</td>\n",
       "      <td>E10</td>\n",
       "      <td>46</td>\n",
       "      <td>21.5</td>\n",
       "      <td>15.0</td>\n",
       "      <td>0</td>\n",
       "      <td>0</td>\n",
       "      <td>0</td>\n",
       "      <td>ac OFF</td>\n",
       "      <td>0.24</td>\n",
       "    </tr>\n",
       "  </tbody>\n",
       "</table>\n",
       "</div>"
      ],
      "text/plain": [
       "   exp_id gas_type  speed  temp_inside  temp_outside AC rain sun weather_mix  \\\n",
       "0       1      E10     26         21.5          12.0  0    0   0      ac OFF   \n",
       "1       2      E10     30         21.5          13.0  0    0   0      ac OFF   \n",
       "2       3      E10     38         21.5          15.0  0    0   0      ac OFF   \n",
       "3       4      E10     36         21.5          14.0  0    0   0      ac OFF   \n",
       "4       5      E10     46         21.5          15.0  0    0   0      ac OFF   \n",
       "\n",
       "   consume_rate  \n",
       "0          0.18  \n",
       "1          0.35  \n",
       "2          0.49  \n",
       "3          0.30  \n",
       "4          0.24  "
      ]
     },
     "execution_count": 50,
     "metadata": {},
     "output_type": "execute_result"
    }
   ],
   "source": [
    "e10_df.head()"
   ]
  },
  {
   "cell_type": "code",
   "execution_count": 51,
   "id": "20559833",
   "metadata": {},
   "outputs": [
    {
     "data": {
      "image/png": "[encoded data removed]",
      "text/plain": [
       "<Figure size 640x480 with 1 Axes>"
      ]
     },
     "metadata": {},
     "output_type": "display_data"
    }
   ],
   "source": [
    "sns.scatterplot(x='speed', y='consume_rate', data=e10_df)\n",
    "plt.ylim(0, 2) # Adjusting the y axis (consume_rate) to the value of 2.00\n",
    "plt.grid(True)\n",
    "plt.show()"
   ]
  },
  {
   "cell_type": "code",
   "execution_count": 52,
   "id": "37b3a679",
   "metadata": {},
   "outputs": [
    {
     "data": {
      "text/html": [
       "<div>\n",
       "<style scoped>\n",
       "    .dataframe tbody tr th:only-of-type {\n",
       "        vertical-align: middle;\n",
       "    }\n",
       "\n",
       "    .dataframe tbody tr th {\n",
       "        vertical-align: top;\n",
       "    }\n",
       "\n",
       "    .dataframe thead th {\n",
       "        text-align: right;\n",
       "    }\n",
       "</style>\n",
       "<table border=\"1\" class=\"dataframe\">\n",
       "  <thead>\n",
       "    <tr style=\"text-align: right;\">\n",
       "      <th></th>\n",
       "      <th>exp_id</th>\n",
       "      <th>gas_type</th>\n",
       "      <th>speed</th>\n",
       "      <th>temp_inside</th>\n",
       "      <th>temp_outside</th>\n",
       "      <th>AC</th>\n",
       "      <th>rain</th>\n",
       "      <th>sun</th>\n",
       "      <th>weather_mix</th>\n",
       "      <th>consume_rate</th>\n",
       "    </tr>\n",
       "  </thead>\n",
       "  <tbody>\n",
       "    <tr>\n",
       "      <th>44</th>\n",
       "      <td>45</td>\n",
       "      <td>SP98</td>\n",
       "      <td>32</td>\n",
       "      <td>21.5</td>\n",
       "      <td>7.0</td>\n",
       "      <td>0</td>\n",
       "      <td>0</td>\n",
       "      <td>0</td>\n",
       "      <td>ac OFF</td>\n",
       "      <td>0.61</td>\n",
       "    </tr>\n",
       "    <tr>\n",
       "      <th>45</th>\n",
       "      <td>46</td>\n",
       "      <td>SP98</td>\n",
       "      <td>21</td>\n",
       "      <td>21.5</td>\n",
       "      <td>4.0</td>\n",
       "      <td>0</td>\n",
       "      <td>0</td>\n",
       "      <td>0</td>\n",
       "      <td>ac OFF</td>\n",
       "      <td>4.95</td>\n",
       "    </tr>\n",
       "    <tr>\n",
       "      <th>46</th>\n",
       "      <td>47</td>\n",
       "      <td>SP98</td>\n",
       "      <td>32</td>\n",
       "      <td>21.5</td>\n",
       "      <td>7.0</td>\n",
       "      <td>0</td>\n",
       "      <td>0</td>\n",
       "      <td>0</td>\n",
       "      <td>ac OFF</td>\n",
       "      <td>0.36</td>\n",
       "    </tr>\n",
       "    <tr>\n",
       "      <th>47</th>\n",
       "      <td>48</td>\n",
       "      <td>SP98</td>\n",
       "      <td>25</td>\n",
       "      <td>21.5</td>\n",
       "      <td>8.0</td>\n",
       "      <td>0</td>\n",
       "      <td>0</td>\n",
       "      <td>0</td>\n",
       "      <td>ac OFF</td>\n",
       "      <td>0.31</td>\n",
       "    </tr>\n",
       "    <tr>\n",
       "      <th>48</th>\n",
       "      <td>49</td>\n",
       "      <td>SP98</td>\n",
       "      <td>25</td>\n",
       "      <td>21.5</td>\n",
       "      <td>11.0</td>\n",
       "      <td>0</td>\n",
       "      <td>0</td>\n",
       "      <td>0</td>\n",
       "      <td>ac OFF</td>\n",
       "      <td>0.42</td>\n",
       "    </tr>\n",
       "  </tbody>\n",
       "</table>\n",
       "</div>"
      ],
      "text/plain": [
       "    exp_id gas_type  speed  temp_inside  temp_outside AC rain sun weather_mix  \\\n",
       "44      45     SP98     32         21.5           7.0  0    0   0      ac OFF   \n",
       "45      46     SP98     21         21.5           4.0  0    0   0      ac OFF   \n",
       "46      47     SP98     32         21.5           7.0  0    0   0      ac OFF   \n",
       "47      48     SP98     25         21.5           8.0  0    0   0      ac OFF   \n",
       "48      49     SP98     25         21.5          11.0  0    0   0      ac OFF   \n",
       "\n",
       "    consume_rate  \n",
       "44          0.61  \n",
       "45          4.95  \n",
       "46          0.36  \n",
       "47          0.31  \n",
       "48          0.42  "
      ]
     },
     "execution_count": 52,
     "metadata": {},
     "output_type": "execute_result"
    }
   ],
   "source": [
    "sp98_df.head()"
   ]
  },
  {
   "cell_type": "code",
   "execution_count": 53,
   "id": "e0e4d282",
   "metadata": {},
   "outputs": [
    {
     "data": {
      "image/png": "[encoded data removed]",
      "text/plain": [
       "<Figure size 640x480 with 1 Axes>"
      ]
     },
     "metadata": {},
     "output_type": "display_data"
    }
   ],
   "source": [
    "sns.scatterplot(x='speed', y='consume_rate', color='orange', data=sp98_df)\n",
    "plt.ylim(0, 2)\n",
    "plt.grid(True)\n",
    "plt.show()"
   ]
  },
  {
   "cell_type": "markdown",
   "id": "be5afbcd",
   "metadata": {},
   "source": [
    "## Outliers Removal"
   ]
  },
  {
   "cell_type": "markdown",
   "id": "26c4fab4",
   "metadata": {},
   "source": [
    " ### E10 - Consume Rate"
   ]
  },
  {
   "cell_type": "code",
   "execution_count": 54,
   "id": "02b6e51b",
   "metadata": {},
   "outputs": [
    {
     "data": {
      "image/png": "[encoded data removed]",
      "text/plain": [
       "<Figure size 800x600 with 1 Axes>"
      ]
     },
     "metadata": {},
     "output_type": "display_data"
    }
   ],
   "source": [
    "# Create a histogram with all the consumption rates records for E10\n",
    "\n",
    "plt.figure(figsize=(8, 6))\n",
    "plt.hist(e10_df.consume_rate, bins=30, color='green', edgecolor='black')\n",
    "plt.title('E10 Consumption rate with outliers (skewed to the right)')\n",
    "plt.xlabel('Consumption rate')\n",
    "plt.ylabel('Frequency')\n",
    "plt.grid(True)\n",
    "plt.show()"
   ]
  },
  {
   "cell_type": "markdown",
   "id": "b1bb219d",
   "metadata": {},
   "source": [
    "To visualize the probability density function of the 'consume_rate', we will get a smoothed representation of its distribution with the **kernel density estimate (KDE).**"
   ]
  },
  {
   "cell_type": "code",
   "execution_count": 55,
   "id": "6201ac13",
   "metadata": {},
   "outputs": [
    {
     "data": {
      "image/png": "[encoded data removed]",
      "text/plain": [
       "<Figure size 640x480 with 1 Axes>"
      ]
     },
     "metadata": {},
     "output_type": "display_data"
    }
   ],
   "source": [
    "# Create a kernel density estimate (KDE) plot with seaborn\n",
    "\n",
    "sns.kdeplot(data=e10_df,x='consume_rate',bw_method=0.1)\n",
    "plt.grid(True)\n",
    "plt.show()"
   ]
  },
  {
   "cell_type": "code",
   "execution_count": 56,
   "id": "59605150",
   "metadata": {},
   "outputs": [
    {
     "data": {
      "text/plain": [
       "count    160.00\n",
       "mean       0.44\n",
       "std        0.65\n",
       "min        0.04\n",
       "25%        0.22\n",
       "50%        0.31\n",
       "75%        0.42\n",
       "max        6.35\n",
       "Name: consume_rate, dtype: float64"
      ]
     },
     "execution_count": 56,
     "metadata": {},
     "output_type": "execute_result"
    }
   ],
   "source": [
    "round(e10_df.consume_rate.describe(),2)"
   ]
  },
  {
   "cell_type": "markdown",
   "id": "2e81c77f",
   "metadata": {},
   "source": [
    " ### E10 - Speed"
   ]
  },
  {
   "cell_type": "code",
   "execution_count": 57,
   "id": "ec31c233",
   "metadata": {},
   "outputs": [
    {
     "data": {
      "image/png": "[encoded data removed]",
      "text/plain": [
       "<Figure size 800x600 with 1 Axes>"
      ]
     },
     "metadata": {},
     "output_type": "display_data"
    }
   ],
   "source": [
    "# Create a histogram with all the speed records for E10\n",
    "\n",
    "plt.figure(figsize=(8, 6))\n",
    "plt.hist(e10_df.speed, bins=10, color='mediumseagreen', edgecolor='black')\n",
    "plt.title('E10 Speed with outliers)')\n",
    "plt.xlabel('Speed')\n",
    "plt.ylabel('Frequency')\n",
    "plt.grid(True)\n",
    "plt.show()"
   ]
  },
  {
   "cell_type": "markdown",
   "id": "207b223d",
   "metadata": {},
   "source": [
    "The speed for E10 shows a normal distribution to take into account for a **bivariate analysis.**"
   ]
  },
  {
   "cell_type": "code",
   "execution_count": 58,
   "id": "8aa58128",
   "metadata": {},
   "outputs": [
    {
     "name": "stdout",
     "output_type": "stream",
     "text": [
      "Interquartile range: 16.0\n"
     ]
    }
   ],
   "source": [
    "pc75 = e10_df['speed'].quantile(0.75)\n",
    "pc25 = e10_df['speed'].quantile(0.25)\n",
    "speed_iqr = pc75 - pc25\n",
    "print('Interquartile range:',round(speed_iqr,2))"
   ]
  },
  {
   "cell_type": "code",
   "execution_count": 59,
   "id": "da7f0d3c",
   "metadata": {},
   "outputs": [
    {
     "name": "stdout",
     "output_type": "stream",
     "text": [
      "11.0 , 75.0\n"
     ]
    }
   ],
   "source": [
    "# Thresholds\n",
    "\n",
    "# Upper threshold\n",
    "upper = pc75 + (1.5 * speed_iqr)\n",
    "\n",
    "# Lower threshold\n",
    "lower = pc25 - (1.5 * speed_iqr)\n",
    "\n",
    "print(lower,',', upper)"
   ]
  },
  {
   "cell_type": "code",
   "execution_count": 60,
   "id": "75eea99b",
   "metadata": {},
   "outputs": [],
   "source": [
    "# Subsetting data according to chart\n",
    "\n",
    "e10_no_outliers_df = e10_df[(e10_df['speed'] > lower ) & (e10_df['speed'] < upper)]"
   ]
  },
  {
   "cell_type": "code",
   "execution_count": 61,
   "id": "c2a3557d",
   "metadata": {},
   "outputs": [
    {
     "data": {
      "image/png": "[encoded data removed]",
      "text/plain": [
       "<Figure size 800x600 with 1 Axes>"
      ]
     },
     "metadata": {},
     "output_type": "display_data"
    }
   ],
   "source": [
    "# Create a histogram with the speed records for E10 without outliers\n",
    "plt.figure(figsize=(8, 6))\n",
    "plt.hist(e10_no_outliers_df.speed, bins=10, color='mediumaquamarine', edgecolor='black')\n",
    "plt.title('E10 Speed with NO outliers')\n",
    "plt.xlabel('Speed')\n",
    "plt.ylabel('Frequency')\n",
    "plt.grid(True)\n",
    "plt.show()"
   ]
  },
  {
   "cell_type": "code",
   "execution_count": 62,
   "id": "73286bf1",
   "metadata": {},
   "outputs": [
    {
     "data": {
      "image/png": "[encoded data removed]",
      "text/plain": [
       "<Figure size 640x480 with 1 Axes>"
      ]
     },
     "metadata": {},
     "output_type": "display_data"
    }
   ],
   "source": [
    "sns.kdeplot(data=e10_no_outliers_df,x='speed',bw_method=0.1)\n",
    "plt.grid(True)\n",
    "plt.show()"
   ]
  },
  {
   "cell_type": "code",
   "execution_count": 63,
   "id": "d6648a52",
   "metadata": {},
   "outputs": [
    {
     "data": {
      "text/plain": [
       "count    153.00\n",
       "mean      41.77\n",
       "std       11.70\n",
       "min       14.00\n",
       "25%       34.00\n",
       "50%       41.00\n",
       "75%       50.00\n",
       "max       73.00\n",
       "Name: speed, dtype: float64"
      ]
     },
     "execution_count": 63,
     "metadata": {},
     "output_type": "execute_result"
    }
   ],
   "source": [
    "round(e10_no_outliers_df.speed.describe(),2)"
   ]
  },
  {
   "cell_type": "markdown",
   "id": "c3fc276f",
   "metadata": {},
   "source": [
    "The speed mean and median are very close to each other."
   ]
  },
  {
   "cell_type": "markdown",
   "id": "3a061309",
   "metadata": {},
   "source": [
    "### SP98 - Consume Rate"
   ]
  },
  {
   "cell_type": "code",
   "execution_count": 64,
   "id": "9cebb4b5",
   "metadata": {},
   "outputs": [
    {
     "data": {
      "image/png": "[encoded data removed]",
      "text/plain": [
       "<Figure size 800x600 with 1 Axes>"
      ]
     },
     "metadata": {},
     "output_type": "display_data"
    }
   ],
   "source": [
    "# Create a histogram with all the consumption rates records for SP98\n",
    "\n",
    "plt.figure(figsize=(8, 6))\n",
    "plt.hist(sp98_df.consume_rate, bins=30, color='blue', edgecolor='black')\n",
    "plt.title('SP98 Consumption rate with outliers (skewed to the right)')\n",
    "plt.xlabel('Consumption rate')\n",
    "plt.ylabel('Frequency')\n",
    "plt.grid(True)\n",
    "plt.show()"
   ]
  },
  {
   "cell_type": "code",
   "execution_count": 65,
   "id": "828d8a51",
   "metadata": {},
   "outputs": [
    {
     "data": {
      "text/plain": [
       "count    228.00\n",
       "mean       0.51\n",
       "std        0.85\n",
       "min        0.02\n",
       "25%        0.24\n",
       "50%        0.34\n",
       "75%        0.44\n",
       "max        8.85\n",
       "Name: consume_rate, dtype: float64"
      ]
     },
     "execution_count": 65,
     "metadata": {},
     "output_type": "execute_result"
    }
   ],
   "source": [
    "round(sp98_df.consume_rate.describe(),2)"
   ]
  },
  {
   "cell_type": "markdown",
   "id": "720e0b8e",
   "metadata": {},
   "source": [
    "### SP98 - Speed"
   ]
  },
  {
   "cell_type": "code",
   "execution_count": 66,
   "id": "331d44fc",
   "metadata": {},
   "outputs": [
    {
     "data": {
      "image/png": "[encoded data removed]",
      "text/plain": [
       "<Figure size 800x600 with 1 Axes>"
      ]
     },
     "metadata": {},
     "output_type": "display_data"
    }
   ],
   "source": [
    "# Create a histogram with all the speed records for SP98\n",
    "plt.figure(figsize=(8, 6))\n",
    "plt.hist(sp98_df.speed, bins=10, color='lightskyblue', edgecolor='black')\n",
    "plt.title('SP98 (Speed with outliers)')\n",
    "plt.xlabel('Speed')\n",
    "plt.ylabel('Frequency')\n",
    "plt.grid(True)\n",
    "plt.show()"
   ]
  },
  {
   "cell_type": "markdown",
   "id": "a7f61893",
   "metadata": {},
   "source": [
    "The speed for SP98 is not like a big deal of a normal distribution but it could work for a **bivariate analysis.**"
   ]
  },
  {
   "cell_type": "code",
   "execution_count": 67,
   "id": "686fac3e",
   "metadata": {},
   "outputs": [
    {
     "name": "stdout",
     "output_type": "stream",
     "text": [
      "Interquartile range: 16.0\n"
     ]
    }
   ],
   "source": [
    "pc75 = sp98_df['speed'].quantile(0.75)\n",
    "pc25 = sp98_df['speed'].quantile(0.25)\n",
    "speed_iqr = pc75 - pc25\n",
    "print('Interquartile range:',round(speed_iqr,2))"
   ]
  },
  {
   "cell_type": "code",
   "execution_count": 68,
   "id": "88ce133c",
   "metadata": {},
   "outputs": [
    {
     "name": "stdout",
     "output_type": "stream",
     "text": [
      "8.0 , 72.0\n"
     ]
    }
   ],
   "source": [
    "# Thresholds\n",
    "\n",
    "# Upper threshold\n",
    "upper = pc75 + (1.5 * speed_iqr)\n",
    "\n",
    "# Lower threshold\n",
    "lower = pc25 - (1.5 * speed_iqr)\n",
    "\n",
    "print(lower,',', upper)"
   ]
  },
  {
   "cell_type": "code",
   "execution_count": 69,
   "id": "9f67d8ff",
   "metadata": {},
   "outputs": [],
   "source": [
    "# Subsetting data according to chart\n",
    "\n",
    "sp98_no_outliers_df = sp98_df[(sp98_df['speed'] > lower ) & (sp98_df['speed'] < upper)]"
   ]
  },
  {
   "cell_type": "code",
   "execution_count": 70,
   "id": "118e113b",
   "metadata": {},
   "outputs": [
    {
     "data": {
      "image/png": "[encoded data removed]",
      "text/plain": [
       "<Figure size 800x600 with 1 Axes>"
      ]
     },
     "metadata": {},
     "output_type": "display_data"
    }
   ],
   "source": [
    "# Create a histogram with the speed records for SP98 without outliers\n",
    "plt.figure(figsize=(8, 6))\n",
    "plt.hist(sp98_no_outliers_df.speed, bins=10, color='cyan', edgecolor='black')\n",
    "plt.title('SP98 Speed with NO outliers')\n",
    "plt.xlabel('Speed')\n",
    "plt.ylabel('Frequency')\n",
    "plt.grid(True)\n",
    "plt.show()"
   ]
  },
  {
   "cell_type": "code",
   "execution_count": 71,
   "id": "bf1b240e",
   "metadata": {},
   "outputs": [
    {
     "data": {
      "text/plain": [
       "count    223.000000\n",
       "mean      39.901345\n",
       "std       11.754208\n",
       "min       16.000000\n",
       "25%       32.000000\n",
       "50%       39.000000\n",
       "75%       47.500000\n",
       "max       71.000000\n",
       "Name: speed, dtype: float64"
      ]
     },
     "execution_count": 71,
     "metadata": {},
     "output_type": "execute_result"
    }
   ],
   "source": [
    "sp98_no_outliers_df.speed.describe()"
   ]
  },
  {
   "cell_type": "markdown",
   "id": "7d3ea6cc",
   "metadata": {},
   "source": [
    "The speed mean and median are **almost** close to each other."
   ]
  },
  {
   "cell_type": "markdown",
   "id": "9fbc92f7",
   "metadata": {},
   "source": [
    "#### Now, we can set thresholds based on speed iqr for both E10 and SP98 consume rates..."
   ]
  },
  {
   "cell_type": "code",
   "execution_count": 72,
   "id": "21a4c8bb",
   "metadata": {},
   "outputs": [
    {
     "data": {
      "image/png": "[encoded data removed]",
      "text/plain": [
       "<Figure size 640x480 with 1 Axes>"
      ]
     },
     "metadata": {},
     "output_type": "display_data"
    }
   ],
   "source": [
    "measurements_df = pd.concat([e10_no_outliers_df, sp98_no_outliers_df])\n",
    "\n",
    "sns.swarmplot(\n",
    "    data=measurements_df,\n",
    "    x='consume_rate',\n",
    "    y='gas_type',\n",
    "    hue='gas_type',\n",
    "    orient='h'\n",
    ")\n",
    "\n",
    "# I can adjuts the x axis (consume_rate) to get an approach\n",
    "plt.xlim(-0.5, 2)\n",
    "plt.grid(True)\n",
    "plt.show()"
   ]
  },
  {
   "cell_type": "code",
   "execution_count": 73,
   "id": "9d5eac56",
   "metadata": {},
   "outputs": [
    {
     "data": {
      "image/png": "[encoded data removed]",
      "text/plain": [
       "<Figure size 640x480 with 1 Axes>"
      ]
     },
     "metadata": {},
     "output_type": "display_data"
    }
   ],
   "source": [
    "# Create the horizontal boxplot\n",
    "sns.boxplot(\n",
    "    data=measurements_df,\n",
    "    x='consume_rate',\n",
    "    y='gas_type',    \n",
    "    orient='h'\n",
    ")\n",
    "\n",
    "# Adjust x-axis limits to \"zoom in\"\n",
    "plt.xlim(0, 2)\n",
    "plt.grid(True)\n",
    "plt.show()"
   ]
  },
  {
   "cell_type": "markdown",
   "id": "47e1d10f",
   "metadata": {},
   "source": [
    " ### E10 - Consume rate (Part II)"
   ]
  },
  {
   "cell_type": "code",
   "execution_count": 74,
   "id": "9b4358c2",
   "metadata": {},
   "outputs": [
    {
     "data": {
      "image/png": "[encoded data removed]",
      "text/plain": [
       "<Figure size 1000x600 with 1 Axes>"
      ]
     },
     "metadata": {},
     "output_type": "display_data"
    }
   ],
   "source": [
    "# Create the horizontal boxplot for e10_no_outliers_df\n",
    "plt.figure(figsize=(10, 6))\n",
    "sns.boxplot(\n",
    "    data=e10_no_outliers_df,\n",
    "    x='consume_rate',\n",
    "    y='gas_type',\n",
    "    orient='h'\n",
    ")\n",
    "plt.xlim(0, 2)\n",
    "plt.grid(True)\n",
    "plt.show()"
   ]
  },
  {
   "cell_type": "code",
   "execution_count": 75,
   "id": "82eaab26",
   "metadata": {},
   "outputs": [
    {
     "data": {
      "text/plain": [
       "count    153.000000\n",
       "mean       0.453007\n",
       "std        0.660404\n",
       "min        0.040000\n",
       "25%        0.230000\n",
       "50%        0.320000\n",
       "75%        0.420000\n",
       "max        6.350000\n",
       "Name: consume_rate, dtype: float64"
      ]
     },
     "execution_count": 75,
     "metadata": {},
     "output_type": "execute_result"
    }
   ],
   "source": [
    "e10_no_outliers_df['consume_rate'].describe()"
   ]
  },
  {
   "cell_type": "code",
   "execution_count": 76,
   "id": "ab16d3f8",
   "metadata": {},
   "outputs": [
    {
     "name": "stdout",
     "output_type": "stream",
     "text": [
      "0.23 0.42\n",
      "0.18999999999999997\n",
      "-0.054999999999999966 0.705\n"
     ]
    }
   ],
   "source": [
    "# Calculate the first quartile (Q1) and third quartile (Q3) of 'consume_rate' column, in a skewed distribution\n",
    "\n",
    "Q1 = e10_no_outliers_df['consume_rate'].describe()['25%']\n",
    "Q3 = e10_no_outliers_df['consume_rate'].describe()['75%']\n",
    "IQR = Q3 - Q1\n",
    "print(Q1, Q3)\n",
    "print(IQR)\n",
    "\n",
    "# Defining thresholds to identify outliers in a skewed distribution\n",
    "\n",
    "lower = Q1 - 1.5 * IQR\n",
    "upper = Q3 + 1.5 * IQR\n",
    "print(lower, upper)"
   ]
  },
  {
   "cell_type": "code",
   "execution_count": 77,
   "id": "15e73b5f",
   "metadata": {},
   "outputs": [],
   "source": [
    "# Subsetting data according to chart\n",
    "\n",
    "e10_no_outliers_df = e10_no_outliers_df[(e10_no_outliers_df['consume_rate'] > lower ) & (e10_no_outliers_df['consume_rate'] < upper)]"
   ]
  },
  {
   "cell_type": "code",
   "execution_count": 78,
   "id": "75a2ef9d",
   "metadata": {},
   "outputs": [
    {
     "data": {
      "image/png": "[encoded data removed]",
      "text/plain": [
       "<Figure size 1000x600 with 1 Axes>"
      ]
     },
     "metadata": {},
     "output_type": "display_data"
    }
   ],
   "source": [
    "# Create the horizontal boxplot for e10_no_outliers_df without consumption rate outliers for E10\n",
    "\n",
    "plt.figure(figsize=(10, 6))\n",
    "sns.boxplot(\n",
    "    data=e10_no_outliers_df,\n",
    "    x='consume_rate',\n",
    "    y='gas_type',\n",
    "    orient='h'\n",
    ")\n",
    "plt.xlim(0, 2)\n",
    "plt.grid(True)\n",
    "plt.show()"
   ]
  },
  {
   "cell_type": "code",
   "execution_count": 79,
   "id": "f875ab81",
   "metadata": {},
   "outputs": [
    {
     "data": {
      "image/png": "[encoded data removed]",
      "text/plain": [
       "<Figure size 640x480 with 1 Axes>"
      ]
     },
     "metadata": {},
     "output_type": "display_data"
    }
   ],
   "source": [
    "# https://www.youtube.com/watch?v=fJoR3QsfXa0&ab_channel=KimberlyFessel\n",
    "from scipy.stats import skewnorm\n",
    "e10_df = e10_no_outliers_df\n",
    "sns.distplot(e10_df.consume_rate, fit=skewnorm, kde=False, hist_kws={'alpha': 1}) # Fit a skew-normal distribution to the data bars that are completely opaque due to hist_kws={'alpha': 1}\n",
    "plt.grid(True)\n",
    "plt.show()"
   ]
  },
  {
   "cell_type": "markdown",
   "id": "3751cda2",
   "metadata": {},
   "source": [
    " ### SP98 - Consume rate (Part II)"
   ]
  },
  {
   "cell_type": "code",
   "execution_count": 80,
   "id": "f6c82a28",
   "metadata": {},
   "outputs": [
    {
     "data": {
      "image/png": "[encoded data removed]",
      "text/plain": [
       "<Figure size 1000x600 with 1 Axes>"
      ]
     },
     "metadata": {},
     "output_type": "display_data"
    }
   ],
   "source": [
    "# Create the horizontal boxplot for sp98_no_outliers_df\n",
    "plt.figure(figsize=(10, 6))\n",
    "sns.boxplot(\n",
    "    data=sp98_no_outliers_df,\n",
    "    x='consume_rate',\n",
    "    y='gas_type',\n",
    "    orient='h',\n",
    "    color='orange'\n",
    ")\n",
    "plt.xlim(0, 2)\n",
    "plt.grid(True)\n",
    "plt.show()"
   ]
  },
  {
   "cell_type": "code",
   "execution_count": 81,
   "id": "0c55f918",
   "metadata": {},
   "outputs": [
    {
     "data": {
      "text/plain": [
       "count    223.000000\n",
       "mean       0.516726\n",
       "std        0.851660\n",
       "min        0.090000\n",
       "25%        0.240000\n",
       "50%        0.340000\n",
       "75%        0.440000\n",
       "max        8.850000\n",
       "Name: consume_rate, dtype: float64"
      ]
     },
     "execution_count": 81,
     "metadata": {},
     "output_type": "execute_result"
    }
   ],
   "source": [
    "sp98_no_outliers_df['consume_rate'].describe()"
   ]
  },
  {
   "cell_type": "code",
   "execution_count": 82,
   "id": "78c5b143",
   "metadata": {},
   "outputs": [
    {
     "name": "stdout",
     "output_type": "stream",
     "text": [
      "0.24 0.44\n",
      "0.2\n",
      "-0.06000000000000005 0.74\n"
     ]
    }
   ],
   "source": [
    "Q1 = sp98_no_outliers_df['consume_rate'].describe()['25%']\n",
    "Q3 = sp98_no_outliers_df['consume_rate'].describe()['75%']\n",
    "IQR = Q3 - Q1\n",
    "print(Q1, Q3)\n",
    "print(IQR)\n",
    "\n",
    "# Defining thresholds to identify outliers in a skewed distribution\n",
    "\n",
    "lower = Q1 - 1.5 * IQR\n",
    "upper = Q3 + 1.5 * IQR\n",
    "print(lower, upper)"
   ]
  },
  {
   "cell_type": "code",
   "execution_count": 83,
   "id": "97e8f892",
   "metadata": {},
   "outputs": [],
   "source": [
    "# Subsetting data according to chart\n",
    "\n",
    "sp98_no_outliers_df = sp98_no_outliers_df[(sp98_no_outliers_df['consume_rate'] > lower ) & (sp98_no_outliers_df['consume_rate'] < upper)]"
   ]
  },
  {
   "cell_type": "code",
   "execution_count": 84,
   "id": "1583cd1f",
   "metadata": {},
   "outputs": [
    {
     "data": {
      "image/png": "[encoded data removed]",
      "text/plain": [
       "<Figure size 1000x600 with 1 Axes>"
      ]
     },
     "metadata": {},
     "output_type": "display_data"
    }
   ],
   "source": [
    "# Create the horizontal boxplot for sp98_no_outliers_df without consumption rate outliers for SP98\n",
    "plt.figure(figsize=(10, 6))\n",
    "sns.boxplot(\n",
    "    data=sp98_no_outliers_df,\n",
    "    x='consume_rate',\n",
    "    y='gas_type',\n",
    "    orient='h',\n",
    "    color='orange'\n",
    ")\n",
    "plt.xlim(0, 2)\n",
    "plt.grid(True)\n",
    "plt.show()"
   ]
  },
  {
   "cell_type": "code",
   "execution_count": 85,
   "id": "d10793cc",
   "metadata": {},
   "outputs": [
    {
     "data": {
      "image/png": "[encoded data removed]",
      "text/plain": [
       "<Figure size 640x480 with 1 Axes>"
      ]
     },
     "metadata": {},
     "output_type": "display_data"
    }
   ],
   "source": [
    "sp98_df = sp98_no_outliers_df\n",
    "sns.distplot(sp98_df.consume_rate, color='orange', fit=skewnorm, kde=False, hist_kws={'alpha': 1})\n",
    "plt.grid(True)\n",
    "plt.show()"
   ]
  },
  {
   "cell_type": "markdown",
   "id": "ec74b0c5",
   "metadata": {},
   "source": [
    "### Let's concat both df back..."
   ]
  },
  {
   "cell_type": "code",
   "execution_count": 86,
   "id": "4302849b",
   "metadata": {},
   "outputs": [],
   "source": [
    "measurements_df = pd.concat([e10_df, sp98_df])"
   ]
  },
  {
   "cell_type": "code",
   "execution_count": 87,
   "id": "0d3d6b57",
   "metadata": {},
   "outputs": [
    {
     "data": {
      "text/html": [
       "<div>\n",
       "<style scoped>\n",
       "    .dataframe tbody tr th:only-of-type {\n",
       "        vertical-align: middle;\n",
       "    }\n",
       "\n",
       "    .dataframe tbody tr th {\n",
       "        vertical-align: top;\n",
       "    }\n",
       "\n",
       "    .dataframe thead th {\n",
       "        text-align: right;\n",
       "    }\n",
       "</style>\n",
       "<table border=\"1\" class=\"dataframe\">\n",
       "  <thead>\n",
       "    <tr style=\"text-align: right;\">\n",
       "      <th></th>\n",
       "      <th>exp_id</th>\n",
       "      <th>gas_type</th>\n",
       "      <th>speed</th>\n",
       "      <th>temp_inside</th>\n",
       "      <th>temp_outside</th>\n",
       "      <th>AC</th>\n",
       "      <th>rain</th>\n",
       "      <th>sun</th>\n",
       "      <th>weather_mix</th>\n",
       "      <th>consume_rate</th>\n",
       "    </tr>\n",
       "  </thead>\n",
       "  <tbody>\n",
       "    <tr>\n",
       "      <th>0</th>\n",
       "      <td>1</td>\n",
       "      <td>E10</td>\n",
       "      <td>26</td>\n",
       "      <td>21.5</td>\n",
       "      <td>12.0</td>\n",
       "      <td>0</td>\n",
       "      <td>0</td>\n",
       "      <td>0</td>\n",
       "      <td>ac OFF</td>\n",
       "      <td>0.18</td>\n",
       "    </tr>\n",
       "    <tr>\n",
       "      <th>1</th>\n",
       "      <td>2</td>\n",
       "      <td>E10</td>\n",
       "      <td>30</td>\n",
       "      <td>21.5</td>\n",
       "      <td>13.0</td>\n",
       "      <td>0</td>\n",
       "      <td>0</td>\n",
       "      <td>0</td>\n",
       "      <td>ac OFF</td>\n",
       "      <td>0.35</td>\n",
       "    </tr>\n",
       "    <tr>\n",
       "      <th>2</th>\n",
       "      <td>3</td>\n",
       "      <td>E10</td>\n",
       "      <td>38</td>\n",
       "      <td>21.5</td>\n",
       "      <td>15.0</td>\n",
       "      <td>0</td>\n",
       "      <td>0</td>\n",
       "      <td>0</td>\n",
       "      <td>ac OFF</td>\n",
       "      <td>0.49</td>\n",
       "    </tr>\n",
       "    <tr>\n",
       "      <th>3</th>\n",
       "      <td>4</td>\n",
       "      <td>E10</td>\n",
       "      <td>36</td>\n",
       "      <td>21.5</td>\n",
       "      <td>14.0</td>\n",
       "      <td>0</td>\n",
       "      <td>0</td>\n",
       "      <td>0</td>\n",
       "      <td>ac OFF</td>\n",
       "      <td>0.30</td>\n",
       "    </tr>\n",
       "    <tr>\n",
       "      <th>4</th>\n",
       "      <td>5</td>\n",
       "      <td>E10</td>\n",
       "      <td>46</td>\n",
       "      <td>21.5</td>\n",
       "      <td>15.0</td>\n",
       "      <td>0</td>\n",
       "      <td>0</td>\n",
       "      <td>0</td>\n",
       "      <td>ac OFF</td>\n",
       "      <td>0.24</td>\n",
       "    </tr>\n",
       "  </tbody>\n",
       "</table>\n",
       "</div>"
      ],
      "text/plain": [
       "   exp_id gas_type  speed  temp_inside  temp_outside AC rain sun weather_mix  \\\n",
       "0       1      E10     26         21.5          12.0  0    0   0      ac OFF   \n",
       "1       2      E10     30         21.5          13.0  0    0   0      ac OFF   \n",
       "2       3      E10     38         21.5          15.0  0    0   0      ac OFF   \n",
       "3       4      E10     36         21.5          14.0  0    0   0      ac OFF   \n",
       "4       5      E10     46         21.5          15.0  0    0   0      ac OFF   \n",
       "\n",
       "   consume_rate  \n",
       "0          0.18  \n",
       "1          0.35  \n",
       "2          0.49  \n",
       "3          0.30  \n",
       "4          0.24  "
      ]
     },
     "execution_count": 87,
     "metadata": {},
     "output_type": "execute_result"
    }
   ],
   "source": [
    "measurements_df.head()"
   ]
  },
  {
   "cell_type": "code",
   "execution_count": 88,
   "id": "c3751164",
   "metadata": {},
   "outputs": [
    {
     "name": "stdout",
     "output_type": "stream",
     "text": [
      "<class 'pandas.core.frame.DataFrame'>\n",
      "Index: 335 entries, 0 to 387\n",
      "Data columns (total 10 columns):\n",
      " #   Column        Non-Null Count  Dtype  \n",
      "---  ------        --------------  -----  \n",
      " 0   exp_id        335 non-null    int64  \n",
      " 1   gas_type      335 non-null    object \n",
      " 2   speed         335 non-null    int64  \n",
      " 3   temp_inside   335 non-null    float64\n",
      " 4   temp_outside  335 non-null    float64\n",
      " 5   AC            335 non-null    object \n",
      " 6   rain          335 non-null    object \n",
      " 7   sun           335 non-null    object \n",
      " 8   weather_mix   335 non-null    object \n",
      " 9   consume_rate  335 non-null    float64\n",
      "dtypes: float64(3), int64(2), object(5)\n",
      "memory usage: 28.8+ KB\n"
     ]
    }
   ],
   "source": [
    "measurements_df.info()"
   ]
  },
  {
   "cell_type": "markdown",
   "id": "60bc422a",
   "metadata": {},
   "source": [
    "# Answering questions from our Exploratory Data Analysis..."
   ]
  },
  {
   "cell_type": "markdown",
   "id": "078360dc",
   "metadata": {},
   "source": [
    "### Question #1: Which gas type consumes the most? E10 or SP98?"
   ]
  },
  {
   "cell_type": "code",
   "execution_count": 89,
   "id": "120441a6",
   "metadata": {},
   "outputs": [
    {
     "data": {
      "text/plain": [
       "<seaborn.axisgrid.FacetGrid at 0x27e2ece4130>"
      ]
     },
     "execution_count": 89,
     "metadata": {},
     "output_type": "execute_result"
    },
    {
     "data": {
      "image/png": "[encoded data removed]",
      "text/plain": [
       "<Figure size 585x500 with 1 Axes>"
      ]
     },
     "metadata": {},
     "output_type": "display_data"
    }
   ],
   "source": [
    "# Creating a scatter plot with an linear regression model fit for both gas types\n",
    "sns.lmplot(\n",
    "    data=measurements_df,\n",
    "    x='speed',\n",
    "    y='consume_rate',\n",
    "    height=5, # The height of the plot\n",
    "    hue='gas_type'\n",
    ")\n"
   ]
  },
  {
   "cell_type": "markdown",
   "id": "0eae3460",
   "metadata": {},
   "source": [
    "We can observe the **consume rate (liter per kms),** regarding the car speed records, is **higher** for the gas type **SP98**"
   ]
  },
  {
   "cell_type": "markdown",
   "id": "c3dd88c3",
   "metadata": {},
   "source": [
    "### Question #2: How much is the consume?"
   ]
  },
  {
   "cell_type": "code",
   "execution_count": 90,
   "id": "db38c97c",
   "metadata": {},
   "outputs": [
    {
     "data": {
      "text/html": [
       "<div>\n",
       "<style scoped>\n",
       "    .dataframe tbody tr th:only-of-type {\n",
       "        vertical-align: middle;\n",
       "    }\n",
       "\n",
       "    .dataframe tbody tr th {\n",
       "        vertical-align: top;\n",
       "    }\n",
       "\n",
       "    .dataframe thead th {\n",
       "        text-align: right;\n",
       "    }\n",
       "</style>\n",
       "<table border=\"1\" class=\"dataframe\">\n",
       "  <thead>\n",
       "    <tr style=\"text-align: right;\">\n",
       "      <th></th>\n",
       "      <th>count</th>\n",
       "      <th>mean</th>\n",
       "      <th>std</th>\n",
       "      <th>min</th>\n",
       "      <th>25%</th>\n",
       "      <th>50%</th>\n",
       "      <th>75%</th>\n",
       "      <th>max</th>\n",
       "    </tr>\n",
       "    <tr>\n",
       "      <th>gas_type</th>\n",
       "      <th></th>\n",
       "      <th></th>\n",
       "      <th></th>\n",
       "      <th></th>\n",
       "      <th></th>\n",
       "      <th></th>\n",
       "      <th></th>\n",
       "      <th></th>\n",
       "    </tr>\n",
       "  </thead>\n",
       "  <tbody>\n",
       "    <tr>\n",
       "      <th>E10</th>\n",
       "      <td>138.0</td>\n",
       "      <td>0.304058</td>\n",
       "      <td>0.125085</td>\n",
       "      <td>0.04</td>\n",
       "      <td>0.22</td>\n",
       "      <td>0.295</td>\n",
       "      <td>0.3975</td>\n",
       "      <td>0.68</td>\n",
       "    </tr>\n",
       "    <tr>\n",
       "      <th>SP98</th>\n",
       "      <td>197.0</td>\n",
       "      <td>0.321421</td>\n",
       "      <td>0.126652</td>\n",
       "      <td>0.09</td>\n",
       "      <td>0.24</td>\n",
       "      <td>0.310</td>\n",
       "      <td>0.4000</td>\n",
       "      <td>0.73</td>\n",
       "    </tr>\n",
       "  </tbody>\n",
       "</table>\n",
       "</div>"
      ],
      "text/plain": [
       "          count      mean       std   min   25%    50%     75%   max\n",
       "gas_type                                                            \n",
       "E10       138.0  0.304058  0.125085  0.04  0.22  0.295  0.3975  0.68\n",
       "SP98      197.0  0.321421  0.126652  0.09  0.24  0.310  0.4000  0.73"
      ]
     },
     "execution_count": 90,
     "metadata": {},
     "output_type": "execute_result"
    }
   ],
   "source": [
    "# Stats Overview\n",
    "measurements_df.groupby('gas_type')['consume_rate'].describe()"
   ]
  },
  {
   "cell_type": "code",
   "execution_count": 91,
   "id": "376c9e97",
   "metadata": {},
   "outputs": [
    {
     "data": {
      "text/html": [
       "<div>\n",
       "<style scoped>\n",
       "    .dataframe tbody tr th:only-of-type {\n",
       "        vertical-align: middle;\n",
       "    }\n",
       "\n",
       "    .dataframe tbody tr th {\n",
       "        vertical-align: top;\n",
       "    }\n",
       "\n",
       "    .dataframe thead th {\n",
       "        text-align: right;\n",
       "    }\n",
       "</style>\n",
       "<table border=\"1\" class=\"dataframe\">\n",
       "  <thead>\n",
       "    <tr style=\"text-align: right;\">\n",
       "      <th></th>\n",
       "      <th>gas_type</th>\n",
       "      <th>consume_rate</th>\n",
       "      <th>speed</th>\n",
       "    </tr>\n",
       "  </thead>\n",
       "  <tbody>\n",
       "    <tr>\n",
       "      <th>0</th>\n",
       "      <td>E10</td>\n",
       "      <td>0.304058</td>\n",
       "      <td>43.289855</td>\n",
       "    </tr>\n",
       "    <tr>\n",
       "      <th>1</th>\n",
       "      <td>SP98</td>\n",
       "      <td>0.321421</td>\n",
       "      <td>41.497462</td>\n",
       "    </tr>\n",
       "  </tbody>\n",
       "</table>\n",
       "</div>"
      ],
      "text/plain": [
       "  gas_type  consume_rate      speed\n",
       "0      E10      0.304058  43.289855\n",
       "1     SP98      0.321421  41.497462"
      ]
     },
     "execution_count": 91,
     "metadata": {},
     "output_type": "execute_result"
    }
   ],
   "source": [
    "# Mean Analysis\n",
    "measurements_df.groupby('gas_type')[['consume_rate', 'speed']].mean().reset_index()"
   ]
  },
  {
   "cell_type": "code",
   "execution_count": 92,
   "id": "db04f936",
   "metadata": {},
   "outputs": [
    {
     "data": {
      "text/html": [
       "<div>\n",
       "<style scoped>\n",
       "    .dataframe tbody tr th:only-of-type {\n",
       "        vertical-align: middle;\n",
       "    }\n",
       "\n",
       "    .dataframe tbody tr th {\n",
       "        vertical-align: top;\n",
       "    }\n",
       "\n",
       "    .dataframe thead th {\n",
       "        text-align: right;\n",
       "    }\n",
       "</style>\n",
       "<table border=\"1\" class=\"dataframe\">\n",
       "  <thead>\n",
       "    <tr style=\"text-align: right;\">\n",
       "      <th></th>\n",
       "      <th>gas_type</th>\n",
       "      <th>consume_rate</th>\n",
       "      <th>speed</th>\n",
       "    </tr>\n",
       "  </thead>\n",
       "  <tbody>\n",
       "    <tr>\n",
       "      <th>0</th>\n",
       "      <td>E10</td>\n",
       "      <td>0.295</td>\n",
       "      <td>42.0</td>\n",
       "    </tr>\n",
       "    <tr>\n",
       "      <th>1</th>\n",
       "      <td>SP98</td>\n",
       "      <td>0.310</td>\n",
       "      <td>41.0</td>\n",
       "    </tr>\n",
       "  </tbody>\n",
       "</table>\n",
       "</div>"
      ],
      "text/plain": [
       "  gas_type  consume_rate  speed\n",
       "0      E10         0.295   42.0\n",
       "1     SP98         0.310   41.0"
      ]
     },
     "execution_count": 92,
     "metadata": {},
     "output_type": "execute_result"
    }
   ],
   "source": [
    "# Median Analysis\n",
    "measurements_df.groupby('gas_type')[['consume_rate', 'speed']].median().reset_index()"
   ]
  },
  {
   "cell_type": "markdown",
   "id": "2cefc518",
   "metadata": {},
   "source": [
    "- **E10** has a **mean consumption rate** of 0.304 and a **median** of 0.295.\n",
    "- **SP98** has a **mean consumption rate** of 0.321 and a **median** of 0.310."
   ]
  },
  {
   "cell_type": "markdown",
   "id": "15d38a3e",
   "metadata": {},
   "source": [
    "Both gas types show similar patterns in terms of distribution and spread **(std)**, with **SP98 having a slightly higher average consumption rate** compared to E10."
   ]
  },
  {
   "cell_type": "markdown",
   "id": "378a7421",
   "metadata": {},
   "source": [
    "### Question #3: It consumes 0.4 liters more with E10 gas, isn't it?"
   ]
  },
  {
   "cell_type": "markdown",
   "id": "6f68669e",
   "metadata": {},
   "source": [
    "Now you are going to see the reason why I created a **relational-ish table df** very early:"
   ]
  },
  {
   "cell_type": "code",
   "execution_count": 93,
   "id": "ae435320",
   "metadata": {},
   "outputs": [
    {
     "data": {
      "text/html": [
       "<div>\n",
       "<style scoped>\n",
       "    .dataframe tbody tr th:only-of-type {\n",
       "        vertical-align: middle;\n",
       "    }\n",
       "\n",
       "    .dataframe tbody tr th {\n",
       "        vertical-align: top;\n",
       "    }\n",
       "\n",
       "    .dataframe thead th {\n",
       "        text-align: right;\n",
       "    }\n",
       "</style>\n",
       "<table border=\"1\" class=\"dataframe\">\n",
       "  <thead>\n",
       "    <tr style=\"text-align: right;\">\n",
       "      <th></th>\n",
       "      <th>exp_id</th>\n",
       "      <th>gas_type</th>\n",
       "      <th>distance</th>\n",
       "      <th>consume</th>\n",
       "      <th>speed</th>\n",
       "      <th>temp_inside</th>\n",
       "      <th>temp_outside</th>\n",
       "      <th>AC</th>\n",
       "      <th>rain</th>\n",
       "      <th>sun</th>\n",
       "      <th>weather_mix</th>\n",
       "    </tr>\n",
       "  </thead>\n",
       "  <tbody>\n",
       "    <tr>\n",
       "      <th>0</th>\n",
       "      <td>1</td>\n",
       "      <td>E10</td>\n",
       "      <td>28.0</td>\n",
       "      <td>5.0</td>\n",
       "      <td>26</td>\n",
       "      <td>21.5</td>\n",
       "      <td>12.0</td>\n",
       "      <td>0</td>\n",
       "      <td>0</td>\n",
       "      <td>0</td>\n",
       "      <td>ac OFF</td>\n",
       "    </tr>\n",
       "    <tr>\n",
       "      <th>1</th>\n",
       "      <td>2</td>\n",
       "      <td>E10</td>\n",
       "      <td>12.0</td>\n",
       "      <td>4.2</td>\n",
       "      <td>30</td>\n",
       "      <td>21.5</td>\n",
       "      <td>13.0</td>\n",
       "      <td>0</td>\n",
       "      <td>0</td>\n",
       "      <td>0</td>\n",
       "      <td>ac OFF</td>\n",
       "    </tr>\n",
       "    <tr>\n",
       "      <th>2</th>\n",
       "      <td>3</td>\n",
       "      <td>E10</td>\n",
       "      <td>11.2</td>\n",
       "      <td>5.5</td>\n",
       "      <td>38</td>\n",
       "      <td>21.5</td>\n",
       "      <td>15.0</td>\n",
       "      <td>0</td>\n",
       "      <td>0</td>\n",
       "      <td>0</td>\n",
       "      <td>ac OFF</td>\n",
       "    </tr>\n",
       "    <tr>\n",
       "      <th>3</th>\n",
       "      <td>4</td>\n",
       "      <td>E10</td>\n",
       "      <td>12.9</td>\n",
       "      <td>3.9</td>\n",
       "      <td>36</td>\n",
       "      <td>21.5</td>\n",
       "      <td>14.0</td>\n",
       "      <td>0</td>\n",
       "      <td>0</td>\n",
       "      <td>0</td>\n",
       "      <td>ac OFF</td>\n",
       "    </tr>\n",
       "    <tr>\n",
       "      <th>4</th>\n",
       "      <td>5</td>\n",
       "      <td>E10</td>\n",
       "      <td>18.5</td>\n",
       "      <td>4.5</td>\n",
       "      <td>46</td>\n",
       "      <td>21.5</td>\n",
       "      <td>15.0</td>\n",
       "      <td>0</td>\n",
       "      <td>0</td>\n",
       "      <td>0</td>\n",
       "      <td>ac OFF</td>\n",
       "    </tr>\n",
       "  </tbody>\n",
       "</table>\n",
       "</div>"
      ],
      "text/plain": [
       "   exp_id gas_type  distance  consume  speed  temp_inside  temp_outside AC  \\\n",
       "0       1      E10      28.0      5.0     26         21.5          12.0  0   \n",
       "1       2      E10      12.0      4.2     30         21.5          13.0  0   \n",
       "2       3      E10      11.2      5.5     38         21.5          15.0  0   \n",
       "3       4      E10      12.9      3.9     36         21.5          14.0  0   \n",
       "4       5      E10      18.5      4.5     46         21.5          15.0  0   \n",
       "\n",
       "  rain sun weather_mix  \n",
       "0    0   0      ac OFF  \n",
       "1    0   0      ac OFF  \n",
       "2    0   0      ac OFF  \n",
       "3    0   0      ac OFF  \n",
       "4    0   0      ac OFF  "
      ]
     },
     "execution_count": 93,
     "metadata": {},
     "output_type": "execute_result"
    }
   ],
   "source": [
    "exp_df.head()"
   ]
  },
  {
   "cell_type": "code",
   "execution_count": 94,
   "id": "708b7390",
   "metadata": {},
   "outputs": [
    {
     "data": {
      "text/html": [
       "<div>\n",
       "<style scoped>\n",
       "    .dataframe tbody tr th:only-of-type {\n",
       "        vertical-align: middle;\n",
       "    }\n",
       "\n",
       "    .dataframe tbody tr th {\n",
       "        vertical-align: top;\n",
       "    }\n",
       "\n",
       "    .dataframe thead th {\n",
       "        text-align: right;\n",
       "    }\n",
       "</style>\n",
       "<table border=\"1\" class=\"dataframe\">\n",
       "  <thead>\n",
       "    <tr style=\"text-align: right;\">\n",
       "      <th></th>\n",
       "      <th>exp_id</th>\n",
       "      <th>consume</th>\n",
       "    </tr>\n",
       "  </thead>\n",
       "  <tbody>\n",
       "    <tr>\n",
       "      <th>0</th>\n",
       "      <td>1</td>\n",
       "      <td>5.0</td>\n",
       "    </tr>\n",
       "    <tr>\n",
       "      <th>1</th>\n",
       "      <td>2</td>\n",
       "      <td>4.2</td>\n",
       "    </tr>\n",
       "    <tr>\n",
       "      <th>2</th>\n",
       "      <td>3</td>\n",
       "      <td>5.5</td>\n",
       "    </tr>\n",
       "    <tr>\n",
       "      <th>3</th>\n",
       "      <td>4</td>\n",
       "      <td>3.9</td>\n",
       "    </tr>\n",
       "    <tr>\n",
       "      <th>4</th>\n",
       "      <td>5</td>\n",
       "      <td>4.5</td>\n",
       "    </tr>\n",
       "  </tbody>\n",
       "</table>\n",
       "</div>"
      ],
      "text/plain": [
       "   exp_id  consume\n",
       "0       1      5.0\n",
       "1       2      4.2\n",
       "2       3      5.5\n",
       "3       4      3.9\n",
       "4       5      4.5"
      ]
     },
     "execution_count": 94,
     "metadata": {},
     "output_type": "execute_result"
    }
   ],
   "source": [
    "# I get the id and consume columns\n",
    "consume_exp_df = exp_df[['exp_id','consume']]\n",
    "consume_exp_df.head()"
   ]
  },
  {
   "cell_type": "code",
   "execution_count": 95,
   "id": "76c014d2",
   "metadata": {},
   "outputs": [
    {
     "data": {
      "text/html": [
       "<div>\n",
       "<style scoped>\n",
       "    .dataframe tbody tr th:only-of-type {\n",
       "        vertical-align: middle;\n",
       "    }\n",
       "\n",
       "    .dataframe tbody tr th {\n",
       "        vertical-align: top;\n",
       "    }\n",
       "\n",
       "    .dataframe thead th {\n",
       "        text-align: right;\n",
       "    }\n",
       "</style>\n",
       "<table border=\"1\" class=\"dataframe\">\n",
       "  <thead>\n",
       "    <tr style=\"text-align: right;\">\n",
       "      <th></th>\n",
       "      <th>exp_id</th>\n",
       "      <th>gas_type</th>\n",
       "      <th>speed</th>\n",
       "      <th>temp_inside</th>\n",
       "      <th>temp_outside</th>\n",
       "      <th>AC</th>\n",
       "      <th>rain</th>\n",
       "      <th>sun</th>\n",
       "      <th>weather_mix</th>\n",
       "      <th>consume_rate</th>\n",
       "    </tr>\n",
       "  </thead>\n",
       "  <tbody>\n",
       "    <tr>\n",
       "      <th>0</th>\n",
       "      <td>1</td>\n",
       "      <td>E10</td>\n",
       "      <td>26</td>\n",
       "      <td>21.5</td>\n",
       "      <td>12.0</td>\n",
       "      <td>0</td>\n",
       "      <td>0</td>\n",
       "      <td>0</td>\n",
       "      <td>ac OFF</td>\n",
       "      <td>0.18</td>\n",
       "    </tr>\n",
       "    <tr>\n",
       "      <th>1</th>\n",
       "      <td>2</td>\n",
       "      <td>E10</td>\n",
       "      <td>30</td>\n",
       "      <td>21.5</td>\n",
       "      <td>13.0</td>\n",
       "      <td>0</td>\n",
       "      <td>0</td>\n",
       "      <td>0</td>\n",
       "      <td>ac OFF</td>\n",
       "      <td>0.35</td>\n",
       "    </tr>\n",
       "    <tr>\n",
       "      <th>2</th>\n",
       "      <td>3</td>\n",
       "      <td>E10</td>\n",
       "      <td>38</td>\n",
       "      <td>21.5</td>\n",
       "      <td>15.0</td>\n",
       "      <td>0</td>\n",
       "      <td>0</td>\n",
       "      <td>0</td>\n",
       "      <td>ac OFF</td>\n",
       "      <td>0.49</td>\n",
       "    </tr>\n",
       "    <tr>\n",
       "      <th>3</th>\n",
       "      <td>4</td>\n",
       "      <td>E10</td>\n",
       "      <td>36</td>\n",
       "      <td>21.5</td>\n",
       "      <td>14.0</td>\n",
       "      <td>0</td>\n",
       "      <td>0</td>\n",
       "      <td>0</td>\n",
       "      <td>ac OFF</td>\n",
       "      <td>0.30</td>\n",
       "    </tr>\n",
       "    <tr>\n",
       "      <th>4</th>\n",
       "      <td>5</td>\n",
       "      <td>E10</td>\n",
       "      <td>46</td>\n",
       "      <td>21.5</td>\n",
       "      <td>15.0</td>\n",
       "      <td>0</td>\n",
       "      <td>0</td>\n",
       "      <td>0</td>\n",
       "      <td>ac OFF</td>\n",
       "      <td>0.24</td>\n",
       "    </tr>\n",
       "  </tbody>\n",
       "</table>\n",
       "</div>"
      ],
      "text/plain": [
       "   exp_id gas_type  speed  temp_inside  temp_outside AC rain sun weather_mix  \\\n",
       "0       1      E10     26         21.5          12.0  0    0   0      ac OFF   \n",
       "1       2      E10     30         21.5          13.0  0    0   0      ac OFF   \n",
       "2       3      E10     38         21.5          15.0  0    0   0      ac OFF   \n",
       "3       4      E10     36         21.5          14.0  0    0   0      ac OFF   \n",
       "4       5      E10     46         21.5          15.0  0    0   0      ac OFF   \n",
       "\n",
       "   consume_rate  \n",
       "0          0.18  \n",
       "1          0.35  \n",
       "2          0.49  \n",
       "3          0.30  \n",
       "4          0.24  "
      ]
     },
     "execution_count": 95,
     "metadata": {},
     "output_type": "execute_result"
    }
   ],
   "source": [
    "measurements_df.head()"
   ]
  },
  {
   "cell_type": "code",
   "execution_count": 96,
   "id": "78a8cb8a",
   "metadata": {},
   "outputs": [
    {
     "data": {
      "text/html": [
       "<div>\n",
       "<style scoped>\n",
       "    .dataframe tbody tr th:only-of-type {\n",
       "        vertical-align: middle;\n",
       "    }\n",
       "\n",
       "    .dataframe tbody tr th {\n",
       "        vertical-align: top;\n",
       "    }\n",
       "\n",
       "    .dataframe thead th {\n",
       "        text-align: right;\n",
       "    }\n",
       "</style>\n",
       "<table border=\"1\" class=\"dataframe\">\n",
       "  <thead>\n",
       "    <tr style=\"text-align: right;\">\n",
       "      <th></th>\n",
       "      <th>exp_id</th>\n",
       "      <th>gas_type</th>\n",
       "      <th>speed</th>\n",
       "      <th>temp_inside</th>\n",
       "      <th>temp_outside</th>\n",
       "      <th>AC</th>\n",
       "      <th>rain</th>\n",
       "      <th>sun</th>\n",
       "      <th>weather_mix</th>\n",
       "      <th>consume_rate</th>\n",
       "      <th>consume</th>\n",
       "    </tr>\n",
       "  </thead>\n",
       "  <tbody>\n",
       "    <tr>\n",
       "      <th>0</th>\n",
       "      <td>1</td>\n",
       "      <td>E10</td>\n",
       "      <td>26</td>\n",
       "      <td>21.5</td>\n",
       "      <td>12.0</td>\n",
       "      <td>0</td>\n",
       "      <td>0</td>\n",
       "      <td>0</td>\n",
       "      <td>ac OFF</td>\n",
       "      <td>0.18</td>\n",
       "      <td>5.0</td>\n",
       "    </tr>\n",
       "    <tr>\n",
       "      <th>1</th>\n",
       "      <td>2</td>\n",
       "      <td>E10</td>\n",
       "      <td>30</td>\n",
       "      <td>21.5</td>\n",
       "      <td>13.0</td>\n",
       "      <td>0</td>\n",
       "      <td>0</td>\n",
       "      <td>0</td>\n",
       "      <td>ac OFF</td>\n",
       "      <td>0.35</td>\n",
       "      <td>4.2</td>\n",
       "    </tr>\n",
       "    <tr>\n",
       "      <th>2</th>\n",
       "      <td>3</td>\n",
       "      <td>E10</td>\n",
       "      <td>38</td>\n",
       "      <td>21.5</td>\n",
       "      <td>15.0</td>\n",
       "      <td>0</td>\n",
       "      <td>0</td>\n",
       "      <td>0</td>\n",
       "      <td>ac OFF</td>\n",
       "      <td>0.49</td>\n",
       "      <td>5.5</td>\n",
       "    </tr>\n",
       "    <tr>\n",
       "      <th>3</th>\n",
       "      <td>4</td>\n",
       "      <td>E10</td>\n",
       "      <td>36</td>\n",
       "      <td>21.5</td>\n",
       "      <td>14.0</td>\n",
       "      <td>0</td>\n",
       "      <td>0</td>\n",
       "      <td>0</td>\n",
       "      <td>ac OFF</td>\n",
       "      <td>0.30</td>\n",
       "      <td>3.9</td>\n",
       "    </tr>\n",
       "    <tr>\n",
       "      <th>4</th>\n",
       "      <td>5</td>\n",
       "      <td>E10</td>\n",
       "      <td>46</td>\n",
       "      <td>21.5</td>\n",
       "      <td>15.0</td>\n",
       "      <td>0</td>\n",
       "      <td>0</td>\n",
       "      <td>0</td>\n",
       "      <td>ac OFF</td>\n",
       "      <td>0.24</td>\n",
       "      <td>4.5</td>\n",
       "    </tr>\n",
       "  </tbody>\n",
       "</table>\n",
       "</div>"
      ],
      "text/plain": [
       "   exp_id gas_type  speed  temp_inside  temp_outside AC rain sun weather_mix  \\\n",
       "0       1      E10     26         21.5          12.0  0    0   0      ac OFF   \n",
       "1       2      E10     30         21.5          13.0  0    0   0      ac OFF   \n",
       "2       3      E10     38         21.5          15.0  0    0   0      ac OFF   \n",
       "3       4      E10     36         21.5          14.0  0    0   0      ac OFF   \n",
       "4       5      E10     46         21.5          15.0  0    0   0      ac OFF   \n",
       "\n",
       "   consume_rate  consume  \n",
       "0          0.18      5.0  \n",
       "1          0.35      4.2  \n",
       "2          0.49      5.5  \n",
       "3          0.30      3.9  \n",
       "4          0.24      4.5  "
      ]
     },
     "execution_count": 96,
     "metadata": {},
     "output_type": "execute_result"
    }
   ],
   "source": [
    "# I merge just the rows of the 'consume' column, that matches with the 'exp_id' column\n",
    "merged_df = pd.merge(measurements_df, consume_exp_df, on='exp_id')\n",
    "merged_df.head()"
   ]
  },
  {
   "cell_type": "code",
   "execution_count": 97,
   "id": "4dc15cff",
   "metadata": {},
   "outputs": [
    {
     "name": "stdout",
     "output_type": "stream",
     "text": [
      "<class 'pandas.core.frame.DataFrame'>\n",
      "RangeIndex: 335 entries, 0 to 334\n",
      "Data columns (total 11 columns):\n",
      " #   Column        Non-Null Count  Dtype  \n",
      "---  ------        --------------  -----  \n",
      " 0   exp_id        335 non-null    int64  \n",
      " 1   gas_type      335 non-null    object \n",
      " 2   speed         335 non-null    int64  \n",
      " 3   temp_inside   335 non-null    float64\n",
      " 4   temp_outside  335 non-null    float64\n",
      " 5   AC            335 non-null    object \n",
      " 6   rain          335 non-null    object \n",
      " 7   sun           335 non-null    object \n",
      " 8   weather_mix   335 non-null    object \n",
      " 9   consume_rate  335 non-null    float64\n",
      " 10  consume       335 non-null    float64\n",
      "dtypes: float64(4), int64(2), object(5)\n",
      "memory usage: 28.9+ KB\n"
     ]
    }
   ],
   "source": [
    "merged_df.info()"
   ]
  },
  {
   "cell_type": "code",
   "execution_count": 98,
   "id": "498100ee",
   "metadata": {},
   "outputs": [
    {
     "data": {
      "text/html": [
       "<div>\n",
       "<style scoped>\n",
       "    .dataframe tbody tr th:only-of-type {\n",
       "        vertical-align: middle;\n",
       "    }\n",
       "\n",
       "    .dataframe tbody tr th {\n",
       "        vertical-align: top;\n",
       "    }\n",
       "\n",
       "    .dataframe thead th {\n",
       "        text-align: right;\n",
       "    }\n",
       "</style>\n",
       "<table border=\"1\" class=\"dataframe\">\n",
       "  <thead>\n",
       "    <tr style=\"text-align: right;\">\n",
       "      <th></th>\n",
       "      <th>gas_type</th>\n",
       "      <th>consume</th>\n",
       "    </tr>\n",
       "  </thead>\n",
       "  <tbody>\n",
       "    <tr>\n",
       "      <th>0</th>\n",
       "      <td>E10</td>\n",
       "      <td>4.781159</td>\n",
       "    </tr>\n",
       "    <tr>\n",
       "      <th>1</th>\n",
       "      <td>SP98</td>\n",
       "      <td>4.668020</td>\n",
       "    </tr>\n",
       "  </tbody>\n",
       "</table>\n",
       "</div>"
      ],
      "text/plain": [
       "  gas_type   consume\n",
       "0      E10  4.781159\n",
       "1     SP98  4.668020"
      ]
     },
     "execution_count": 98,
     "metadata": {},
     "output_type": "execute_result"
    }
   ],
   "source": [
    "# Mean Analysis\n",
    "merged_df.groupby('gas_type')['consume'].mean().reset_index()"
   ]
  },
  {
   "cell_type": "code",
   "execution_count": 99,
   "id": "66ad39ce",
   "metadata": {},
   "outputs": [
    {
     "data": {
      "text/html": [
       "<div>\n",
       "<style scoped>\n",
       "    .dataframe tbody tr th:only-of-type {\n",
       "        vertical-align: middle;\n",
       "    }\n",
       "\n",
       "    .dataframe tbody tr th {\n",
       "        vertical-align: top;\n",
       "    }\n",
       "\n",
       "    .dataframe thead th {\n",
       "        text-align: right;\n",
       "    }\n",
       "</style>\n",
       "<table border=\"1\" class=\"dataframe\">\n",
       "  <thead>\n",
       "    <tr style=\"text-align: right;\">\n",
       "      <th></th>\n",
       "      <th>gas_type</th>\n",
       "      <th>consume</th>\n",
       "    </tr>\n",
       "  </thead>\n",
       "  <tbody>\n",
       "    <tr>\n",
       "      <th>0</th>\n",
       "      <td>E10</td>\n",
       "      <td>4.7</td>\n",
       "    </tr>\n",
       "    <tr>\n",
       "      <th>1</th>\n",
       "      <td>SP98</td>\n",
       "      <td>4.6</td>\n",
       "    </tr>\n",
       "  </tbody>\n",
       "</table>\n",
       "</div>"
      ],
      "text/plain": [
       "  gas_type  consume\n",
       "0      E10      4.7\n",
       "1     SP98      4.6"
      ]
     },
     "execution_count": 99,
     "metadata": {},
     "output_type": "execute_result"
    }
   ],
   "source": [
    "# Median Analysis\n",
    "merged_df.groupby('gas_type')['consume'].median().reset_index()"
   ]
  },
  {
   "cell_type": "code",
   "execution_count": 100,
   "id": "df38a9c1",
   "metadata": {},
   "outputs": [
    {
     "name": "stdout",
     "output_type": "stream",
     "text": [
      "mean_diff 0.11313899999999943\n",
      "median_diff 0.10000000000000053\n"
     ]
    }
   ],
   "source": [
    "# It consumes 0.4 liters more with E10 gas, isn't it?\n",
    "\n",
    "# Consume Mean\n",
    "\n",
    "e10_mean = 4.781159\n",
    "sp98_mean = 4.668020\n",
    "\n",
    "mean_diff = e10_mean - sp98_mean\n",
    "print('mean_diff', mean_diff)\n",
    "\n",
    "# Consume Median\n",
    "\n",
    "e10_median = 4.7\n",
    "sp98_median = 4.6\n",
    "\n",
    "median_diff = e10_median - sp98_median\n",
    "print('median_diff', median_diff)"
   ]
  },
  {
   "cell_type": "markdown",
   "id": "e644d8a3",
   "metadata": {},
   "source": [
    "It consumes 0.4 liters more with E10 gas, isn't it? **The answer is Not necessarily.**\n",
    "\n",
    "It depended on the amount of experiments per gas type. That is why I did the Feature Engineering in the first place,\n",
    "to mean creating the column **'consume_rate'** to be accurate in tell **which gas type consumes the most.**"
   ]
  },
  {
   "cell_type": "markdown",
   "id": "69904d57",
   "metadata": {},
   "source": [
    "### Question #4: Which of the two fuels is cheaper, E10 or SP 98?"
   ]
  },
  {
   "cell_type": "markdown",
   "id": "3b8fc28c",
   "metadata": {},
   "source": [
    "From the Kaggle Dataset context:\n",
    "- **E10** is sold for **€ 1.38**\n",
    "- **SP98** is sold for **€ 1.46**"
   ]
  },
  {
   "cell_type": "code",
   "execution_count": 101,
   "id": "6045c717",
   "metadata": {},
   "outputs": [
    {
     "name": "stdout",
     "output_type": "stream",
     "text": [
      "e10_paid_mean =>  6.597999419999999\n",
      "sp98_paid_mean =>  6.815309200000001\n",
      "E10 cheaper than SP 98? =>  True\n",
      "\n",
      "\n",
      "e10_paid_median =>  6.486\n",
      "sp98_paid_median =>  6.715999999999999\n",
      "E10 cheaper than SP 98? =>  True\n"
     ]
    }
   ],
   "source": [
    "e10_price = 1.38\n",
    "sp98_price = 1.46\n",
    "\n",
    "# Paid Mean\n",
    "\n",
    "e10_paid_mean = e10_mean * e10_price\n",
    "sp98_paid_mean = sp98_mean * sp98_price\n",
    "print('e10_paid_mean => ',e10_paid_mean)\n",
    "print('sp98_paid_mean => ',sp98_paid_mean)\n",
    "print('E10 cheaper than SP 98? => ', e10_paid_mean <= sp98_paid_mean)\n",
    "print('\\n')\n",
    "\n",
    "# Paid Median\n",
    "\n",
    "e10_paid_median = e10_median * e10_price\n",
    "sp98_paid_median = sp98_median * sp98_price\n",
    "print('e10_paid_median => ',e10_paid_median)\n",
    "print('sp98_paid_median => ',sp98_paid_median)\n",
    "print('E10 cheaper than SP 98? => ', e10_paid_median <= sp98_paid_median)"
   ]
  },
  {
   "cell_type": "markdown",
   "id": "5ad91041",
   "metadata": {},
   "source": [
    "From the means and medians for both gas types, **E10** tends to be **cheaper** than SP98."
   ]
  },
  {
   "cell_type": "markdown",
   "id": "64996466",
   "metadata": {},
   "source": [
    "## Conclusions"
   ]
  },
  {
   "cell_type": "markdown",
   "id": "b21e43a9",
   "metadata": {},
   "source": [
    "After this Exploratory Data analysis, **the next experiment will be Machine Learning training models for Gas Consumption predictions.** We export the 'pre-processed' dataset as follows:"
   ]
  },
  {
   "cell_type": "code",
   "execution_count": 102,
   "id": "7774f8fd",
   "metadata": {},
   "outputs": [],
   "source": [
    "pre_processed_gas_df = merged_df.copy()"
   ]
  },
  {
   "cell_type": "code",
   "execution_count": 103,
   "id": "5cec07eb",
   "metadata": {},
   "outputs": [],
   "source": [
    "from pathlib import Path\n",
    "filepath = Path('../data/pre_processed/pre_processed_gas_df.csv', index=False)  \n",
    "filepath.parent.mkdir(parents=True, exist_ok=True) \n",
    "pre_processed_gas_df.to_csv(filepath, index=False, encoding='utf-8')"
   ]
  },
  {
   "cell_type": "markdown",
   "id": "56cf53aa",
   "metadata": {},
   "source": [
    "# References\n",
    "- [Detecting And Treating Outliers In Python — Part 2](https://towardsdatascience.com/detecting-and-treating-outliers-in-python-part-2-3a3319ec2c33)"
   ]
  }
 ],
 "metadata": {
  "kernelspec": {
   "display_name": "Python (m3_env)",
   "language": "python",
   "name": "m3_env"
  },
  "language_info": {
   "codemirror_mode": {
    "name": "ipython",
    "version": 3
   },
   "file_extension": ".py",
   "mimetype": "text/x-python",
   "name": "python",
   "nbconvert_exporter": "python",
   "pygments_lexer": "ipython3",
   "version": "3.10.13"
  }
 },
 "nbformat": 4,
 "nbformat_minor": 5
}
